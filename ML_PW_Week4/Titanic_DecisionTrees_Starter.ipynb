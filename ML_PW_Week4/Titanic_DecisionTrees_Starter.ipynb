{
 "cells": [
  {
   "cell_type": "markdown",
   "metadata": {},
   "source": [
    "# Predict survival on the Titanic\n",
    "In this Lab, we ask you to apply the tools of machine learning to predict which passengers survived the tragedy"
   ]
  },
  {
   "cell_type": "markdown",
   "metadata": {},
   "source": [
    "### Dataset\n",
    "The dataset contains 891 observations of 12 variables:\n",
    "* **PassengerId**: Unique ID for each passenger\n",
    "* **Survived**: Survival (0 = No; 1 = Yes)\n",
    "* **Pclass**: Passenger Class (1 = 1st; 2 = 2nd; 3 = 3rd)\n",
    "* **Name**: Name\n",
    "* **Sex**: Sex\n",
    "* **Age**: Age\n",
    "* **Sibsp**: Number of Siblings/Spouses Aboard\n",
    "* **Parch**: Number of Parents/Children Aboard\n",
    "* **Ticket**: Ticket Number\n",
    "* **Fare**: Passenger Fare\n",
    "* **Cabin**: Cabin\n",
    "* **Embarked** Port of Embarkation (C = Cherbourg; Q = Queenstown; S = Southampton)"
   ]
  },
  {
   "cell_type": "code",
   "execution_count": 359,
   "metadata": {
    "collapsed": true,
    "pycharm": {
     "is_executing": false
    }
   },
   "outputs": [],
   "source": [
    "# imports\n",
    "import warnings\n",
    "warnings.filterwarnings('ignore')\n",
    "import pandas as pd\n",
    "import numpy as np"
   ]
  },
  {
   "cell_type": "code",
   "execution_count": 360,
   "metadata": {
    "collapsed": true,
    "pycharm": {
     "is_executing": false
    }
   },
   "outputs": [
    {
     "name": "stdout",
     "text": [
      "survival rate = 0.3838383838383838\n"
     ],
     "output_type": "stream"
    }
   ],
   "source": [
    "titanic = pd.read_csv(\"titanic.csv\" )\n",
    "titanic.drop('Cabin', axis=1, inplace=True) # Drop this column because it contains a lot of Nan values\n",
    "titanic[\"Age\"].fillna(titanic[\"Age\"].median(),inplace=True)\n",
    "titanic[\"Embarked\"].fillna(\"S\", inplace = True)\n",
    "print ('survival rate =', titanic.Survived.mean())"
   ]
  },
  {
   "cell_type": "markdown",
   "metadata": {},
   "source": [
    "## Model training"
   ]
  },
  {
   "cell_type": "code",
   "execution_count": 361,
   "metadata": {
    "collapsed": true,
    "pycharm": {
     "is_executing": false
    }
   },
   "outputs": [
    {
     "data": {
      "text/plain": "   PassengerId  Survived  Pclass  \\\n0            1         0       3   \n1            2         1       1   \n2            3         1       3   \n3            4         1       1   \n4            5         0       3   \n\n                                                Name  Sex   Age  SibSp  Parch  \\\n0                            Braund, Mr. Owen Harris    1  22.0      1      0   \n1  Cumings, Mrs. John Bradley (Florence Briggs Th...    0  38.0      1      0   \n2                             Heikkinen, Miss. Laina    0  26.0      0      0   \n3       Futrelle, Mrs. Jacques Heath (Lily May Peel)    0  35.0      1      0   \n4                           Allen, Mr. William Henry    1  35.0      0      0   \n\n             Ticket     Fare  Embarked  \n0         A/5 21171   7.2500         2  \n1          PC 17599  71.2833         0  \n2  STON/O2. 3101282   7.9250         2  \n3            113803  53.1000         2  \n4            373450   8.0500         2  ",
      "text/html": "<div>\n<style scoped>\n    .dataframe tbody tr th:only-of-type {\n        vertical-align: middle;\n    }\n\n    .dataframe tbody tr th {\n        vertical-align: top;\n    }\n\n    .dataframe thead th {\n        text-align: right;\n    }\n</style>\n<table border=\"1\" class=\"dataframe\">\n  <thead>\n    <tr style=\"text-align: right;\">\n      <th></th>\n      <th>PassengerId</th>\n      <th>Survived</th>\n      <th>Pclass</th>\n      <th>Name</th>\n      <th>Sex</th>\n      <th>Age</th>\n      <th>SibSp</th>\n      <th>Parch</th>\n      <th>Ticket</th>\n      <th>Fare</th>\n      <th>Embarked</th>\n    </tr>\n  </thead>\n  <tbody>\n    <tr>\n      <th>0</th>\n      <td>1</td>\n      <td>0</td>\n      <td>3</td>\n      <td>Braund, Mr. Owen Harris</td>\n      <td>1</td>\n      <td>22.0</td>\n      <td>1</td>\n      <td>0</td>\n      <td>A/5 21171</td>\n      <td>7.2500</td>\n      <td>2</td>\n    </tr>\n    <tr>\n      <th>1</th>\n      <td>2</td>\n      <td>1</td>\n      <td>1</td>\n      <td>Cumings, Mrs. John Bradley (Florence Briggs Th...</td>\n      <td>0</td>\n      <td>38.0</td>\n      <td>1</td>\n      <td>0</td>\n      <td>PC 17599</td>\n      <td>71.2833</td>\n      <td>0</td>\n    </tr>\n    <tr>\n      <th>2</th>\n      <td>3</td>\n      <td>1</td>\n      <td>3</td>\n      <td>Heikkinen, Miss. Laina</td>\n      <td>0</td>\n      <td>26.0</td>\n      <td>0</td>\n      <td>0</td>\n      <td>STON/O2. 3101282</td>\n      <td>7.9250</td>\n      <td>2</td>\n    </tr>\n    <tr>\n      <th>3</th>\n      <td>4</td>\n      <td>1</td>\n      <td>1</td>\n      <td>Futrelle, Mrs. Jacques Heath (Lily May Peel)</td>\n      <td>0</td>\n      <td>35.0</td>\n      <td>1</td>\n      <td>0</td>\n      <td>113803</td>\n      <td>53.1000</td>\n      <td>2</td>\n    </tr>\n    <tr>\n      <th>4</th>\n      <td>5</td>\n      <td>0</td>\n      <td>3</td>\n      <td>Allen, Mr. William Henry</td>\n      <td>1</td>\n      <td>35.0</td>\n      <td>0</td>\n      <td>0</td>\n      <td>373450</td>\n      <td>8.0500</td>\n      <td>2</td>\n    </tr>\n  </tbody>\n</table>\n</div>"
     },
     "metadata": {},
     "output_type": "execute_result",
     "execution_count": 361
    }
   ],
   "source": [
    "# Some of the columns don't have predictive power, so let's specify which ones are included for prediction\n",
    "predictors = [\"Pclass\", \"Sex\", \"Age\", 'SibSp' ,'Parch', \"Fare\", \"Embarked\"]  \n",
    "# We need now to convert text columns in predictors to numerical ones\n",
    "for col in predictors: # Loop through all columns in predictors\n",
    "    if titanic[col].dtype == 'object':  # check if column's type is object (text)\n",
    "        titanic[col] = pd.Categorical(titanic[col]).codes  # convert text to numerical\n",
    "\n",
    "titanic.head()"
   ]
  },
  {
   "cell_type": "code",
   "execution_count": 362,
   "metadata": {
    "collapsed": true,
    "pycharm": {
     "is_executing": false
    }
   },
   "outputs": [
    {
     "name": "stdout",
     "text": [
      "train accuracy = 0.8105939004815409\n",
      "cross validation accuracy = 0.7901490077087383\n"
     ],
     "output_type": "stream"
    }
   ],
   "source": [
    "# Split the data into a training set and a testing set\n",
    "from sklearn.model_selection import train_test_split \n",
    "X_train, X_test, y_train, y_test = train_test_split(titanic[predictors], titanic['Survived'], test_size=0.3, random_state=1)\n",
    "\n",
    "from sklearn.linear_model import LogisticRegression\n",
    "clf = LogisticRegression(random_state=1)\n",
    "clf.fit(X_train, y_train)\n",
    "train_score = clf.score(X_train, y_train)\n",
    "print ('train accuracy =', clf.score(X_train, y_train))\n",
    "\n",
    "from sklearn.model_selection import cross_val_score\n",
    "scores = cross_val_score(clf, titanic[predictors], titanic[\"Survived\"], scoring='accuracy', cv=5)\n",
    "print('cross validation accuracy =', scores.mean())"
   ]
  },
  {
   "cell_type": "markdown",
   "metadata": {
    "collapsed": true
   },
   "source": [
    " # Decision Trees"
   ]
  },
  {
   "cell_type": "markdown",
   "metadata": {},
   "source": [
    "Let's start with one single tree"
   ]
  },
  {
   "cell_type": "code",
   "execution_count": 363,
   "metadata": {
    "collapsed": true,
    "pycharm": {
     "is_executing": false
    }
   },
   "outputs": [
    {
     "name": "stdout",
     "text": [
      "train accuracy = 0.9887640449438202\n",
      "test accuracy = 0.7574626865671642\n"
     ],
     "output_type": "stream"
    }
   ],
   "source": [
    "# import from: http://scikit-learn.org/stable/modules/generated/sklearn.tree.DecisionTreeClassifier.html#sklearn.tree.DecisionTreeClassifier\n",
    "from sklearn.tree import DecisionTreeClassifier\n",
    "# your code here\n",
    "clf_dt = DecisionTreeClassifier(random_state=1)\n",
    "## FIT \n",
    "clf_dt.fit(X_train, y_train)\n",
    "## SCORE \n",
    "train_score = clf_dt.score(X_train, y_train)\n",
    "test_score = clf_dt.score(X_test, y_test)\n",
    "# your code here\n",
    "print ('train accuracy =', train_score)\n",
    "print ('test accuracy =', test_score)"
   ]
  },
  {
   "cell_type": "markdown",
   "metadata": {},
   "source": [
    "Predictions are obtained in the same way of Logistic Regression"
   ]
  },
  {
   "cell_type": "code",
   "execution_count": 364,
   "metadata": {
    "collapsed": true,
    "pycharm": {
     "is_executing": false
    }
   },
   "outputs": [
    {
     "name": "stdout",
     "text": [
      "[1 0 1 1 1 0 0 1 0 1 0 0 0 0 1 0 0 0 0 0 0 0 1 0 0 0 1 1 0 1 0 0 1 0 0 0 1\n",
      " 0 1 0 0 0 1 0 1 0 0 0 1 1 1 1 1 0 0 0 0 0 0 0 0 0 0 0 1 0 0 0 1 0 0 0 0 0\n",
      " 1 0 1 0 0 1 0 0 0 0 0 0 0 0 0 1 0 0 0 1 0 0 0 1 0 0 0 0 1 0 1 0 0 0 0 0 1\n",
      " 1 0 0 0 0 0 0 1 0 1 1 0 0 1 1 1 1 0 0 0 0 1 0 1 1 1 0 0 1 1 0 1 0 0 0 1 0\n",
      " 0 0 1 0 0 0 0 1 0 0 1 0 0 0 1 1 0 0 1 0 1 0 1 0 1 0 1 0 0 0 1 0 1 1 0 0 1\n",
      " 0 0 1 0 1 0 1 1 1 0 1 0 1 0 0 0 1 0 1 0 0 1 0 0 0 1 0 0 1 0 0 0 1 1 0 0 0\n",
      " 1 1 0 0 1 1 1 0 1 0 1 0 0 0 0 1 0 0 0 0 0 1 0 1 1 1 0 1 0 0 1 1 1 1 1 1 0\n",
      " 0 1 0 1 0 0 0 0 1]\n"
     ],
     "output_type": "stream"
    }
   ],
   "source": [
    "y_pred = clf_dt.predict(X_test)# your code here\n",
    "print (y_pred)"
   ]
  },
  {
   "cell_type": "code",
   "execution_count": 365,
   "metadata": {
    "collapsed": true,
    "pycharm": {
     "is_executing": false
    }
   },
   "outputs": [
    {
     "name": "stdout",
     "text": [
      "[[0.   1.  ]\n",
      " [1.   0.  ]\n",
      " [0.   1.  ]\n",
      " [0.   1.  ]\n",
      " [0.   1.  ]\n",
      " [1.   0.  ]\n",
      " [1.   0.  ]\n",
      " [0.   1.  ]\n",
      " [1.   0.  ]\n",
      " [0.   1.  ]\n",
      " [1.   0.  ]\n",
      " [1.   0.  ]\n",
      " [1.   0.  ]\n",
      " [1.   0.  ]\n",
      " [0.25 0.75]\n",
      " [1.   0.  ]\n",
      " [1.   0.  ]\n",
      " [1.   0.  ]\n",
      " [1.   0.  ]\n",
      " [1.   0.  ]\n",
      " [0.5  0.5 ]\n",
      " [1.   0.  ]\n",
      " [0.   1.  ]\n",
      " [1.   0.  ]\n",
      " [1.   0.  ]\n",
      " [1.   0.  ]\n",
      " [0.   1.  ]\n",
      " [0.   1.  ]\n",
      " [1.   0.  ]\n",
      " [0.   1.  ]\n",
      " [1.   0.  ]\n",
      " [1.   0.  ]\n",
      " [0.   1.  ]\n",
      " [1.   0.  ]\n",
      " [1.   0.  ]\n",
      " [1.   0.  ]\n",
      " [0.   1.  ]\n",
      " [1.   0.  ]\n",
      " [0.   1.  ]\n",
      " [1.   0.  ]\n",
      " [1.   0.  ]\n",
      " [1.   0.  ]\n",
      " [0.   1.  ]\n",
      " [1.   0.  ]\n",
      " [0.   1.  ]\n",
      " [1.   0.  ]\n",
      " [1.   0.  ]\n",
      " [1.   0.  ]\n",
      " [0.   1.  ]\n",
      " [0.   1.  ]\n",
      " [0.   1.  ]\n",
      " [0.   1.  ]\n",
      " [0.   1.  ]\n",
      " [1.   0.  ]\n",
      " [1.   0.  ]\n",
      " [1.   0.  ]\n",
      " [1.   0.  ]\n",
      " [1.   0.  ]\n",
      " [1.   0.  ]\n",
      " [1.   0.  ]\n",
      " [1.   0.  ]\n",
      " [0.8  0.2 ]\n",
      " [1.   0.  ]\n",
      " [1.   0.  ]\n",
      " [0.   1.  ]\n",
      " [1.   0.  ]\n",
      " [1.   0.  ]\n",
      " [1.   0.  ]\n",
      " [0.   1.  ]\n",
      " [1.   0.  ]\n",
      " [1.   0.  ]\n",
      " [1.   0.  ]\n",
      " [1.   0.  ]\n",
      " [1.   0.  ]\n",
      " [0.   1.  ]\n",
      " [1.   0.  ]\n",
      " [0.   1.  ]\n",
      " [1.   0.  ]\n",
      " [1.   0.  ]\n",
      " [0.   1.  ]\n",
      " [1.   0.  ]\n",
      " [1.   0.  ]\n",
      " [1.   0.  ]\n",
      " [1.   0.  ]\n",
      " [1.   0.  ]\n",
      " [1.   0.  ]\n",
      " [1.   0.  ]\n",
      " [1.   0.  ]\n",
      " [1.   0.  ]\n",
      " [0.   1.  ]\n",
      " [1.   0.  ]\n",
      " [1.   0.  ]\n",
      " [1.   0.  ]\n",
      " [0.25 0.75]\n",
      " [1.   0.  ]\n",
      " [1.   0.  ]\n",
      " [1.   0.  ]\n",
      " [0.   1.  ]\n",
      " [1.   0.  ]\n",
      " [1.   0.  ]\n",
      " [1.   0.  ]\n",
      " [1.   0.  ]\n",
      " [0.   1.  ]\n",
      " [1.   0.  ]\n",
      " [0.   1.  ]\n",
      " [1.   0.  ]\n",
      " [1.   0.  ]\n",
      " [1.   0.  ]\n",
      " [1.   0.  ]\n",
      " [1.   0.  ]\n",
      " [0.   1.  ]\n",
      " [0.   1.  ]\n",
      " [1.   0.  ]\n",
      " [1.   0.  ]\n",
      " [1.   0.  ]\n",
      " [1.   0.  ]\n",
      " [1.   0.  ]\n",
      " [1.   0.  ]\n",
      " [0.   1.  ]\n",
      " [1.   0.  ]\n",
      " [0.   1.  ]\n",
      " [0.   1.  ]\n",
      " [1.   0.  ]\n",
      " [1.   0.  ]\n",
      " [0.   1.  ]\n",
      " [0.   1.  ]\n",
      " [0.   1.  ]\n",
      " [0.   1.  ]\n",
      " [1.   0.  ]\n",
      " [1.   0.  ]\n",
      " [1.   0.  ]\n",
      " [0.5  0.5 ]\n",
      " [0.   1.  ]\n",
      " [1.   0.  ]\n",
      " [0.   1.  ]\n",
      " [0.   1.  ]\n",
      " [0.   1.  ]\n",
      " [1.   0.  ]\n",
      " [1.   0.  ]\n",
      " [0.   1.  ]\n",
      " [0.   1.  ]\n",
      " [1.   0.  ]\n",
      " [0.   1.  ]\n",
      " [1.   0.  ]\n",
      " [1.   0.  ]\n",
      " [1.   0.  ]\n",
      " [0.   1.  ]\n",
      " [1.   0.  ]\n",
      " [1.   0.  ]\n",
      " [1.   0.  ]\n",
      " [0.   1.  ]\n",
      " [1.   0.  ]\n",
      " [1.   0.  ]\n",
      " [1.   0.  ]\n",
      " [1.   0.  ]\n",
      " [0.   1.  ]\n",
      " [1.   0.  ]\n",
      " [1.   0.  ]\n",
      " [0.   1.  ]\n",
      " [1.   0.  ]\n",
      " [1.   0.  ]\n",
      " [1.   0.  ]\n",
      " [0.   1.  ]\n",
      " [0.   1.  ]\n",
      " [1.   0.  ]\n",
      " [1.   0.  ]\n",
      " [0.   1.  ]\n",
      " [1.   0.  ]\n",
      " [0.   1.  ]\n",
      " [1.   0.  ]\n",
      " [0.   1.  ]\n",
      " [1.   0.  ]\n",
      " [0.   1.  ]\n",
      " [1.   0.  ]\n",
      " [0.   1.  ]\n",
      " [1.   0.  ]\n",
      " [1.   0.  ]\n",
      " [1.   0.  ]\n",
      " [0.   1.  ]\n",
      " [1.   0.  ]\n",
      " [0.   1.  ]\n",
      " [0.   1.  ]\n",
      " [1.   0.  ]\n",
      " [1.   0.  ]\n",
      " [0.   1.  ]\n",
      " [1.   0.  ]\n",
      " [1.   0.  ]\n",
      " [0.   1.  ]\n",
      " [1.   0.  ]\n",
      " [0.   1.  ]\n",
      " [1.   0.  ]\n",
      " [0.   1.  ]\n",
      " [0.25 0.75]\n",
      " [0.   1.  ]\n",
      " [1.   0.  ]\n",
      " [0.   1.  ]\n",
      " [1.   0.  ]\n",
      " [0.   1.  ]\n",
      " [1.   0.  ]\n",
      " [1.   0.  ]\n",
      " [1.   0.  ]\n",
      " [0.   1.  ]\n",
      " [1.   0.  ]\n",
      " [0.   1.  ]\n",
      " [1.   0.  ]\n",
      " [1.   0.  ]\n",
      " [0.   1.  ]\n",
      " [1.   0.  ]\n",
      " [1.   0.  ]\n",
      " [0.5  0.5 ]\n",
      " [0.   1.  ]\n",
      " [1.   0.  ]\n",
      " [0.8  0.2 ]\n",
      " [0.   1.  ]\n",
      " [1.   0.  ]\n",
      " [1.   0.  ]\n",
      " [1.   0.  ]\n",
      " [0.   1.  ]\n",
      " [0.   1.  ]\n",
      " [1.   0.  ]\n",
      " [1.   0.  ]\n",
      " [1.   0.  ]\n",
      " [0.   1.  ]\n",
      " [0.   1.  ]\n",
      " [1.   0.  ]\n",
      " [1.   0.  ]\n",
      " [0.   1.  ]\n",
      " [0.   1.  ]\n",
      " [0.   1.  ]\n",
      " [1.   0.  ]\n",
      " [0.   1.  ]\n",
      " [1.   0.  ]\n",
      " [0.   1.  ]\n",
      " [0.5  0.5 ]\n",
      " [1.   0.  ]\n",
      " [1.   0.  ]\n",
      " [1.   0.  ]\n",
      " [0.25 0.75]\n",
      " [1.   0.  ]\n",
      " [1.   0.  ]\n",
      " [1.   0.  ]\n",
      " [1.   0.  ]\n",
      " [1.   0.  ]\n",
      " [0.   1.  ]\n",
      " [1.   0.  ]\n",
      " [0.   1.  ]\n",
      " [0.   1.  ]\n",
      " [0.   1.  ]\n",
      " [1.   0.  ]\n",
      " [0.   1.  ]\n",
      " [1.   0.  ]\n",
      " [1.   0.  ]\n",
      " [0.   1.  ]\n",
      " [0.   1.  ]\n",
      " [0.   1.  ]\n",
      " [0.   1.  ]\n",
      " [0.   1.  ]\n",
      " [0.   1.  ]\n",
      " [1.   0.  ]\n",
      " [1.   0.  ]\n",
      " [0.   1.  ]\n",
      " [1.   0.  ]\n",
      " [0.25 0.75]\n",
      " [1.   0.  ]\n",
      " [1.   0.  ]\n",
      " [0.5  0.5 ]\n",
      " [1.   0.  ]\n",
      " [0.   1.  ]]\n"
     ],
     "output_type": "stream"
    }
   ],
   "source": [
    "y_prob = clf_dt.predict_proba(X_test)# your code here\n",
    "print (y_prob)"
   ]
  },
  {
   "cell_type": "markdown",
   "metadata": {},
   "source": [
    "Let's play around with some of the decision tree's parameters"
   ]
  },
  {
   "cell_type": "code",
   "execution_count": 366,
   "metadata": {
    "collapsed": true,
    "pycharm": {
     "is_executing": false
    }
   },
   "outputs": [
    {
     "name": "stdout",
     "text": [
      "train accuracy = 0.8812199036918138\n",
      "cross validation accuracy = 0.8137323847510467\n"
     ],
     "output_type": "stream"
    }
   ],
   "source": [
    "# check the sklearn documentation and change the following parameters: max_depth, min_samples_split, min_samples_leaf \n",
    "clf_dt = DecisionTreeClassifier(random_state=1, max_depth=5, min_samples_split=15)# your code here)\n",
    "# your code here\n",
    "clf_dt.fit(X_train, y_train)\n",
    "train_score = clf_dt.score(X_train, y_train)\n",
    "print ('train accuracy =', train_score)# your code here)\n",
    "\n",
    "# Cross validation\n",
    "scores_dt = cross_val_score(clf_dt, titanic[predictors], titanic[\"Survived\"], scoring='accuracy', cv=5)# your code here\n",
    "print('cross validation accuracy =', scores_dt.mean())# your code here)"
   ]
  },
  {
   "cell_type": "markdown",
   "metadata": {},
   "source": [
    "### Plot the decision tree\n",
    "Set the max_depth parameter in the previous classifier to 3 and leave all the other ones to default values.<br>\n",
    "Open the tree.dot file in a text editor, copy the piece of code and paste it  [ @ webgraphviz.com](http://webgraphviz.com/)"
   ]
  },
  {
   "cell_type": "code",
   "execution_count": 367,
   "metadata": {
    "collapsed": true,
    "pycharm": {
     "is_executing": false
    }
   },
   "outputs": [
    {
     "name": "stdout",
     "text": [
      "{0: 'Pclass', 1: 'Sex', 2: 'Age', 3: 'SibSp', 4: 'Parch', 5: 'Fare', 6: 'Embarked'}\n"
     ],
     "output_type": "stream"
    }
   ],
   "source": [
    "from sklearn import tree\n",
    "tree.export_graphviz(clf_dt, out_file='tree.dot')\n",
    "# As a reminder, these are the predicting features in order\n",
    "print (dict(zip(range(len(predictors)),predictors)))"
   ]
  },
  {
   "cell_type": "markdown",
   "metadata": {},
   "source": [
    "The image should look like the following"
   ]
  },
  {
   "cell_type": "code",
   "execution_count": 368,
   "metadata": {
    "collapsed": true,
    "pycharm": {
     "is_executing": false
    }
   },
   "outputs": [],
   "source": [
    "from IPython.display import Image\n",
    "# Image(\"DT.png\")\n",
    "# import pydot\n",
    "# (graph, ) = pydot.graph_from_dot_file('tree.dot')\n",
    "# graph.write_png('test.png')\n",
    "# Image(\"test.png\")"
   ]
  },
  {
   "cell_type": "markdown",
   "metadata": {},
   "source": [
    "Predict the survival of a female, Pclass 1 or 2, above age 2.5"
   ]
  },
  {
   "cell_type": "code",
   "execution_count": 369,
   "metadata": {
    "collapsed": true,
    "pycharm": {
     "is_executing": false
    }
   },
   "outputs": [
    {
     "name": "stdout",
     "text": [
      "proba = [[0.0952381 0.9047619]]\n",
      "class = [1]\n"
     ],
     "output_type": "stream"
    }
   ],
   "source": [
    "passenger1=np.array([1, 0, 3, 0, 0, 0, 0]).reshape([1, -1])# your code here]).reshape(1, -1)\n",
    "print ('proba =', clf_dt.predict_proba(passenger1))# your code here)\n",
    "print ('class =', clf_dt.predict(passenger1))# your code here)"
   ]
  },
  {
   "cell_type": "markdown",
   "metadata": {},
   "source": [
    "Predict the survival of a male, above age 11.5, Pclass 2 or 3"
   ]
  },
  {
   "cell_type": "code",
   "execution_count": 370,
   "metadata": {
    "collapsed": true,
    "pycharm": {
     "is_executing": false
    }
   },
   "outputs": [],
   "source": [
    "# passenger2=np.array([# your code here]).reshape(1, -1)\n",
    "# print ('proba =', # your code here)\n",
    "# print ('class =', # your code here)"
   ]
  },
  {
   "cell_type": "markdown",
   "metadata": {},
   "source": [
    "By looking at this decision tree, you can get a sense the relative importance between features. let's see which are the most important ones using the attribute: **feature\\_importances_**"
   ]
  },
  {
   "cell_type": "code",
   "execution_count": 371,
   "metadata": {
    "collapsed": true,
    "pycharm": {
     "is_executing": false
    }
   },
   "outputs": [
    {
     "data": {
      "text/plain": "          Importance\nSex         0.535202\nPclass      0.165342\nAge         0.123519\nFare        0.060527\nSibSp       0.059734\nEmbarked    0.043938\nParch       0.011738",
      "text/html": "<div>\n<style scoped>\n    .dataframe tbody tr th:only-of-type {\n        vertical-align: middle;\n    }\n\n    .dataframe tbody tr th {\n        vertical-align: top;\n    }\n\n    .dataframe thead th {\n        text-align: right;\n    }\n</style>\n<table border=\"1\" class=\"dataframe\">\n  <thead>\n    <tr style=\"text-align: right;\">\n      <th></th>\n      <th>Importance</th>\n    </tr>\n  </thead>\n  <tbody>\n    <tr>\n      <th>Sex</th>\n      <td>0.535202</td>\n    </tr>\n    <tr>\n      <th>Pclass</th>\n      <td>0.165342</td>\n    </tr>\n    <tr>\n      <th>Age</th>\n      <td>0.123519</td>\n    </tr>\n    <tr>\n      <th>Fare</th>\n      <td>0.060527</td>\n    </tr>\n    <tr>\n      <th>SibSp</th>\n      <td>0.059734</td>\n    </tr>\n    <tr>\n      <th>Embarked</th>\n      <td>0.043938</td>\n    </tr>\n    <tr>\n      <th>Parch</th>\n      <td>0.011738</td>\n    </tr>\n  </tbody>\n</table>\n</div>"
     },
     "metadata": {},
     "output_type": "execute_result",
     "execution_count": 371
    }
   ],
   "source": [
    "feat_imp = pd.DataFrame(clf_dt.feature_importances_, predictors, columns=['Importance'])\n",
    "feat_imp.sort_values('Importance', ascending=False)"
   ]
  },
  {
   "cell_type": "markdown",
   "metadata": {},
   "source": [
    "As expected, **Parch** and **Fare** are the least important ones because they were not used for splitting, while **Sex** is the most important one since it was used first for splitting. "
   ]
  },
  {
   "cell_type": "markdown",
   "metadata": {},
   "source": [
    "# Random Forest\n",
    "A   [Random Forest](http://scikit-learn.org/stable/modules/generated/sklearn.ensemble.RandomForestClassifier.html#sklearn.ensemble.RandomForestClassifier from sklearn.ensemble import RandomForestClassifier) is an ensemble of [decision trees](http://scikit-learn.org/stable/modules/generated/sklearn.tree.DecisionTreeClassifier.html#sklearn.tree.DecisionTreeClassifier)"
   ]
  },
  {
   "cell_type": "code",
   "execution_count": 372,
   "metadata": {
    "collapsed": true,
    "pycharm": {
     "is_executing": false
    }
   },
   "outputs": [
    {
     "name": "stdout",
     "text": [
      "train accuracy = 0.9743178170144462\n",
      "cross validation accuracy = 0.8137323847510467\n"
     ],
     "output_type": "stream"
    }
   ],
   "source": [
    "# import from: http://scikit-learn.org/stable/modules/generated/sklearn.ensemble.RandomForestClassifier.html#sklearn.ensemble.RandomForestClassifier\n",
    "# your code here\n",
    "from sklearn.ensemble import RandomForestClassifier\n",
    "clf_rf = RandomForestClassifier(random_state=1)  # by default, 10 trees are used\n",
    "# your code here\n",
    "clf_rf.fit(X_train, y_train)\n",
    "print ('train accuracy =', clf_rf.score(X_train, y_train))# your code here)\n",
    "\n",
    "# Cross validation\n",
    "scores_rf = cross_val_score(clf_dt, titanic[predictors], titanic[\"Survived\"], scoring='accuracy', cv=5)# your code here\n",
    "print('cross validation accuracy =', scores_rf.mean())# your code here)"
   ]
  },
  {
   "cell_type": "markdown",
   "metadata": {},
   "source": [
    "In the same way, you can print the feature importance of all the trees"
   ]
  },
  {
   "cell_type": "code",
   "execution_count": 373,
   "metadata": {
    "collapsed": true,
    "pycharm": {
     "is_executing": false
    }
   },
   "outputs": [
    {
     "data": {
      "text/plain": "          Importance\nAge         0.266266\nFare        0.257963\nSex         0.239376\nPclass      0.087316\nSibSp       0.061535\nParch       0.054428\nEmbarked    0.033116",
      "text/html": "<div>\n<style scoped>\n    .dataframe tbody tr th:only-of-type {\n        vertical-align: middle;\n    }\n\n    .dataframe tbody tr th {\n        vertical-align: top;\n    }\n\n    .dataframe thead th {\n        text-align: right;\n    }\n</style>\n<table border=\"1\" class=\"dataframe\">\n  <thead>\n    <tr style=\"text-align: right;\">\n      <th></th>\n      <th>Importance</th>\n    </tr>\n  </thead>\n  <tbody>\n    <tr>\n      <th>Age</th>\n      <td>0.266266</td>\n    </tr>\n    <tr>\n      <th>Fare</th>\n      <td>0.257963</td>\n    </tr>\n    <tr>\n      <th>Sex</th>\n      <td>0.239376</td>\n    </tr>\n    <tr>\n      <th>Pclass</th>\n      <td>0.087316</td>\n    </tr>\n    <tr>\n      <th>SibSp</th>\n      <td>0.061535</td>\n    </tr>\n    <tr>\n      <th>Parch</th>\n      <td>0.054428</td>\n    </tr>\n    <tr>\n      <th>Embarked</th>\n      <td>0.033116</td>\n    </tr>\n  </tbody>\n</table>\n</div>"
     },
     "metadata": {},
     "output_type": "execute_result",
     "execution_count": 373
    }
   ],
   "source": [
    "# your code here\n",
    "feat_imp = pd.DataFrame(clf_rf.feature_importances_, predictors, columns=['Importance'])\n",
    "feat_imp.sort_values('Importance', ascending=False)"
   ]
  },
  {
   "cell_type": "markdown",
   "metadata": {},
   "source": [
    "Random forest, like decision trees have a lot of parameters to tune. Usually, performance does not change linearly with parameters. Let's take as an example, the accuracy as a function of number of trees (**n_estimators**)"
   ]
  },
  {
   "cell_type": "code",
   "execution_count": 374,
   "metadata": {
    "collapsed": true,
    "scrolled": true,
    "pycharm": {
     "is_executing": false
    }
   },
   "outputs": [
    {
     "data": {
      "text/plain": "Text(0.5, 0, 'Number of Trees')"
     },
     "metadata": {},
     "output_type": "execute_result",
     "execution_count": 374
    },
    {
     "data": {
      "text/plain": "<Figure size 432x288 with 1 Axes>",
      "image/png": "[encoded data removed]"
     },
     "metadata": {
      "needs_background": "light"
     },
     "output_type": "display_data"
    }
   ],
   "source": [
    "%matplotlib inline\n",
    "import matplotlib.pyplot as plt\n",
    "\n",
    "trees=range(50)\n",
    "accuracy=np.zeros(50)\n",
    "for idx in range(len(trees)):\n",
    "    clf_rf=RandomForestClassifier(random_state=1, n_estimators=idx + 1)\n",
    "    clf_rf.fit(X_train,y_train)\n",
    "    accuracy[idx]=clf_rf.score(X_test, y_test)  \n",
    "\n",
    "plt.plot(trees, accuracy)\n",
    "plt.ylabel('accuracy')\n",
    "plt.xlabel('Number of Trees')"
   ]
  },
  {
   "cell_type": "markdown",
   "metadata": {},
   "source": [
    "In the following, try to tune manually the following parameters: **min_samples_leaf, min_samples_split, max_depth, n_estimators** in order to increase cross validation accuracy."
   ]
  },
  {
   "cell_type": "code",
   "execution_count": 375,
   "metadata": {
    "collapsed": true,
    "pycharm": {
     "is_executing": false
    }
   },
   "outputs": [
    {
     "name": "stdout",
     "text": [
      "train accuracy = 0.8780096308186196\n",
      "cross validation accuracy = 0.8249494376702922\n"
     ],
     "output_type": "stream"
    }
   ],
   "source": [
    "clf_rf = RandomForestClassifier(random_state=1, min_samples_split=13, max_depth=7, n_estimators=25)# your code here)\n",
    "clf_rf.fit(X_train, y_train)\n",
    "print ('train accuracy =', clf_rf.score(X_train, y_train))\n",
    "\n",
    "# Cross validation\n",
    "scores_rf = cross_val_score(clf_rf, titanic[predictors], titanic[\"Survived\"], scoring='accuracy', cv=5)\n",
    "print('cross validation accuracy =', scores_rf.mean())"
   ]
  },
  {
   "cell_type": "markdown",
   "metadata": {},
   "source": [
    "This might be a difficult job to do manually. In other way is to search automatically the best combination of different ranges for these parameters. This is done using **Grid Search**"
   ]
  },
  {
   "cell_type": "markdown",
   "metadata": {},
   "source": [
    "# Grid Search"
   ]
  },
  {
   "cell_type": "code",
   "execution_count": 376,
   "metadata": {
    "collapsed": true,
    "pycharm": {
     "is_executing": false
    }
   },
   "outputs": [
    {
     "data": {
      "text/plain": "GridSearchCV(cv=5, error_score='raise-deprecating',\n       estimator=RandomForestClassifier(bootstrap=True, class_weight=None, criterion='gini',\n            max_depth=None, max_features='auto', max_leaf_nodes=None,\n            min_impurity_decrease=0.0, min_impurity_split=None,\n            min_samples_leaf=1, min_samples_split=2,\n            min_weight_fraction_leaf=0.0, n_estimators='warn', n_jobs=None,\n            oob_score=False, random_state=1, verbose=0, warm_start=False),\n       fit_params=None, iid='warn', n_jobs=None,\n       param_grid={'min_samples_leaf': [1, 2, 3, 4], 'min_samples_split': [2, 4, 6, 8], 'n_estimators': [10, 20, 30, 40]},\n       pre_dispatch='2*n_jobs', refit=True, return_train_score='warn',\n       scoring='accuracy', verbose=0)"
     },
     "metadata": {},
     "output_type": "execute_result",
     "execution_count": 376
    }
   ],
   "source": [
    "# Documentation: http://scikit-learn.org/stable/modules/generated/sklearn.model_selection.GridSearchCV.html#sklearn.model_selection.GridSearchCV\n",
    "# your code here\n",
    "from sklearn.model_selection import GridSearchCV\n",
    "params = {'min_samples_leaf':list(range(1,5)),'min_samples_split':list(range(2,10,2)),\n",
    "          'n_estimators':list(range(10,50,10))}\n",
    "clf_rf2=RandomForestClassifier(random_state=1)\n",
    "clf_gs=GridSearchCV(clf_rf2, params, scoring = 'accuracy',cv=5)\n",
    "clf_gs.fit(titanic[predictors], titanic[\"Survived\"])"
   ]
  },
  {
   "cell_type": "markdown",
   "metadata": {},
   "source": [
    "Print the best score"
   ]
  },
  {
   "cell_type": "code",
   "execution_count": 377,
   "metadata": {
    "collapsed": true,
    "pycharm": {
     "is_executing": false
    }
   },
   "outputs": [
    {
     "data": {
      "text/plain": "0.8327721661054994"
     },
     "metadata": {},
     "output_type": "execute_result",
     "execution_count": 377
    }
   ],
   "source": [
    "# your code here\n",
    "clf_gs.best_score_"
   ]
  },
  {
   "cell_type": "markdown",
   "metadata": {},
   "source": [
    "Print the best parameters"
   ]
  },
  {
   "cell_type": "code",
   "execution_count": 378,
   "metadata": {
    "collapsed": true,
    "pycharm": {
     "is_executing": false
    }
   },
   "outputs": [
    {
     "data": {
      "text/plain": "{'min_samples_leaf': 4, 'min_samples_split': 2, 'n_estimators': 30}"
     },
     "metadata": {},
     "output_type": "execute_result",
     "execution_count": 378
    }
   ],
   "source": [
    "# your code here\n",
    "clf_gs.best_params_"
   ]
  },
  {
   "cell_type": "markdown",
   "metadata": {},
   "source": [
    "Let's use these best parameters and check whether they achieve really the above cv accuracy"
   ]
  },
  {
   "cell_type": "code",
   "execution_count": 379,
   "metadata": {
    "collapsed": true,
    "pycharm": {
     "is_executing": false
    }
   },
   "outputs": [
    {
     "name": "stdout",
     "text": [
      "train accuracy = 0.8860353130016051\n",
      "cross validation accuracy = 0.8328209542068248\n"
     ],
     "output_type": "stream"
    }
   ],
   "source": [
    "clf_rf3 = RandomForestClassifier(random_state=1, min_samples_leaf= 4, min_samples_split= 2, n_estimators= 30)# your code here) \n",
    "clf_rf3.fit(X_train, y_train)\n",
    "print ('train accuracy =', clf_rf3.score(X_train, y_train))\n",
    "\n",
    "scores_rf3 = cross_val_score(clf_rf3, titanic[predictors], titanic[\"Survived\"], scoring='accuracy', cv=5)\n",
    "print('cross validation accuracy =',scores_rf3.mean())"
   ]
  },
  {
   "cell_type": "markdown",
   "metadata": {
    "collapsed": true
   },
   "source": [
    "As you can see, grid search allows you to find the best model parameters to improve your accuracy. Now, we can see the most important features of this last classifier"
   ]
  },
  {
   "cell_type": "code",
   "execution_count": 380,
   "metadata": {
    "collapsed": true,
    "pycharm": {
     "is_executing": false
    }
   },
   "outputs": [
    {
     "data": {
      "text/plain": "          Importance\nSex         0.387434\nFare        0.204499\nAge         0.147745\nPclass      0.130683\nSibSp       0.053662\nParch       0.040667\nEmbarked    0.035311",
      "text/html": "<div>\n<style scoped>\n    .dataframe tbody tr th:only-of-type {\n        vertical-align: middle;\n    }\n\n    .dataframe tbody tr th {\n        vertical-align: top;\n    }\n\n    .dataframe thead th {\n        text-align: right;\n    }\n</style>\n<table border=\"1\" class=\"dataframe\">\n  <thead>\n    <tr style=\"text-align: right;\">\n      <th></th>\n      <th>Importance</th>\n    </tr>\n  </thead>\n  <tbody>\n    <tr>\n      <th>Sex</th>\n      <td>0.387434</td>\n    </tr>\n    <tr>\n      <th>Fare</th>\n      <td>0.204499</td>\n    </tr>\n    <tr>\n      <th>Age</th>\n      <td>0.147745</td>\n    </tr>\n    <tr>\n      <th>Pclass</th>\n      <td>0.130683</td>\n    </tr>\n    <tr>\n      <th>SibSp</th>\n      <td>0.053662</td>\n    </tr>\n    <tr>\n      <th>Parch</th>\n      <td>0.040667</td>\n    </tr>\n    <tr>\n      <th>Embarked</th>\n      <td>0.035311</td>\n    </tr>\n  </tbody>\n</table>\n</div>"
     },
     "metadata": {},
     "output_type": "execute_result",
     "execution_count": 380
    }
   ],
   "source": [
    "feat_imp = pd.DataFrame(clf_rf3.feature_importances_, predictors, columns=['Importance'])\n",
    "feat_imp.sort_values('Importance', ascending=False)"
   ]
  },
  {
   "cell_type": "code",
   "execution_count": 380,
   "metadata": {
    "collapsed": true,
    "pycharm": {
     "is_executing": false
    }
   },
   "outputs": [],
   "source": []
  }
 ],
 "metadata": {
  "anaconda-cloud": {},
  "kernelspec": {
   "display_name": "Python 3",
   "language": "python",
   "name": "python3"
  },
  "language_info": {
   "codemirror_mode": {
    "name": "ipython",
    "version": 3
   },
   "file_extension": ".py",
   "mimetype": "text/x-python",
   "name": "python",
   "nbconvert_exporter": "python",
   "pygments_lexer": "ipython3",
   "version": "3.6.1"
  },
  "pycharm": {
   "stem_cell": {
    "cell_type": "raw",
    "source": [],
    "metadata": {
     "collapsed": false
    }
   }
  }
 },
 "nbformat": 4,
 "nbformat_minor": 1
}