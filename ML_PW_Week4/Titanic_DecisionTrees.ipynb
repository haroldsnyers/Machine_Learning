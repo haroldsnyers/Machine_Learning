{
 "cells": [
  {
   "cell_type": "markdown",
   "metadata": {},
   "source": [
    "# Predict survival on the Titanic\n",
    "In this Lab, we ask you to apply the tools of machine learning to predict which passengers survived the tragedy"
   ]
  },
  {
   "cell_type": "markdown",
   "metadata": {},
   "source": [
    "### Dataset\n",
    "The dataset contains 891 observations of 12 variables:\n",
    "* **PassengerId**: Unique ID for each passenger\n",
    "* **Survived**: Survival (0 = No; 1 = Yes)\n",
    "* **Pclass**: Passenger Class (1 = 1st; 2 = 2nd; 3 = 3rd)\n",
    "* **Name**: Name\n",
    "* **Sex**: Sex\n",
    "* **Age**: Age\n",
    "* **Sibsp**: Number of Siblings/Spouses Aboard\n",
    "* **Parch**: Number of Parents/Children Aboard\n",
    "* **Ticket**: Ticket Number\n",
    "* **Fare**: Passenger Fare\n",
    "* **Cabin**: Cabin\n",
    "* **Embarked** Port of Embarkation (C = Cherbourg; Q = Queenstown; S = Southampton)"
   ]
  },
  {
   "cell_type": "code",
   "execution_count": 1,
   "metadata": {
    "collapsed": true
   },
   "outputs": [],
   "source": [
    "# imports\n",
    "import warnings\n",
    "warnings.filterwarnings('ignore')\n",
    "import pandas as pd\n",
    "import numpy as np"
   ]
  },
  {
   "cell_type": "code",
   "execution_count": 2,
   "metadata": {},
   "outputs": [
    {
     "name": "stdout",
     "output_type": "stream",
     "text": [
      "survival rate = 0.3838383838383838\n"
     ]
    }
   ],
   "source": [
    "titanic = pd.read_csv(\"titanic.csv\" )\n",
    "titanic.drop('Cabin', axis=1, inplace=True) # Drop this column because it contains a lot of Nan values\n",
    "titanic[\"Age\"].fillna(titanic[\"Age\"].median(),inplace=True)\n",
    "titanic[\"Embarked\"].fillna(\"S\", inplace = True)\n",
    "print ('survival rate =', titanic.Survived.mean())"
   ]
  },
  {
   "cell_type": "markdown",
   "metadata": {},
   "source": [
    "## Model training"
   ]
  },
  {
   "cell_type": "code",
   "execution_count": 3,
   "metadata": {},
   "outputs": [
    {
     "data": {
      "text/html": [
       "<div>\n",
       "<table border=\"1\" class=\"dataframe\">\n",
       "  <thead>\n",
       "    <tr style=\"text-align: right;\">\n",
       "      <th></th>\n",
       "      <th>PassengerId</th>\n",
       "      <th>Survived</th>\n",
       "      <th>Pclass</th>\n",
       "      <th>Name</th>\n",
       "      <th>Sex</th>\n",
       "      <th>Age</th>\n",
       "      <th>SibSp</th>\n",
       "      <th>Parch</th>\n",
       "      <th>Ticket</th>\n",
       "      <th>Fare</th>\n",
       "      <th>Embarked</th>\n",
       "    </tr>\n",
       "  </thead>\n",
       "  <tbody>\n",
       "    <tr>\n",
       "      <th>0</th>\n",
       "      <td>1</td>\n",
       "      <td>0</td>\n",
       "      <td>3</td>\n",
       "      <td>Braund, Mr. Owen Harris</td>\n",
       "      <td>1</td>\n",
       "      <td>22</td>\n",
       "      <td>1</td>\n",
       "      <td>0</td>\n",
       "      <td>A/5 21171</td>\n",
       "      <td>7.2500</td>\n",
       "      <td>2</td>\n",
       "    </tr>\n",
       "    <tr>\n",
       "      <th>1</th>\n",
       "      <td>2</td>\n",
       "      <td>1</td>\n",
       "      <td>1</td>\n",
       "      <td>Cumings, Mrs. John Bradley (Florence Briggs Th...</td>\n",
       "      <td>0</td>\n",
       "      <td>38</td>\n",
       "      <td>1</td>\n",
       "      <td>0</td>\n",
       "      <td>PC 17599</td>\n",
       "      <td>71.2833</td>\n",
       "      <td>0</td>\n",
       "    </tr>\n",
       "    <tr>\n",
       "      <th>2</th>\n",
       "      <td>3</td>\n",
       "      <td>1</td>\n",
       "      <td>3</td>\n",
       "      <td>Heikkinen, Miss. Laina</td>\n",
       "      <td>0</td>\n",
       "      <td>26</td>\n",
       "      <td>0</td>\n",
       "      <td>0</td>\n",
       "      <td>STON/O2. 3101282</td>\n",
       "      <td>7.9250</td>\n",
       "      <td>2</td>\n",
       "    </tr>\n",
       "    <tr>\n",
       "      <th>3</th>\n",
       "      <td>4</td>\n",
       "      <td>1</td>\n",
       "      <td>1</td>\n",
       "      <td>Futrelle, Mrs. Jacques Heath (Lily May Peel)</td>\n",
       "      <td>0</td>\n",
       "      <td>35</td>\n",
       "      <td>1</td>\n",
       "      <td>0</td>\n",
       "      <td>113803</td>\n",
       "      <td>53.1000</td>\n",
       "      <td>2</td>\n",
       "    </tr>\n",
       "    <tr>\n",
       "      <th>4</th>\n",
       "      <td>5</td>\n",
       "      <td>0</td>\n",
       "      <td>3</td>\n",
       "      <td>Allen, Mr. William Henry</td>\n",
       "      <td>1</td>\n",
       "      <td>35</td>\n",
       "      <td>0</td>\n",
       "      <td>0</td>\n",
       "      <td>373450</td>\n",
       "      <td>8.0500</td>\n",
       "      <td>2</td>\n",
       "    </tr>\n",
       "  </tbody>\n",
       "</table>\n",
       "</div>"
      ],
      "text/plain": [
       "   PassengerId  Survived  Pclass  \\\n",
       "0            1         0       3   \n",
       "1            2         1       1   \n",
       "2            3         1       3   \n",
       "3            4         1       1   \n",
       "4            5         0       3   \n",
       "\n",
       "                                                Name  Sex  Age  SibSp  Parch  \\\n",
       "0                            Braund, Mr. Owen Harris    1   22      1      0   \n",
       "1  Cumings, Mrs. John Bradley (Florence Briggs Th...    0   38      1      0   \n",
       "2                             Heikkinen, Miss. Laina    0   26      0      0   \n",
       "3       Futrelle, Mrs. Jacques Heath (Lily May Peel)    0   35      1      0   \n",
       "4                           Allen, Mr. William Henry    1   35      0      0   \n",
       "\n",
       "             Ticket     Fare  Embarked  \n",
       "0         A/5 21171   7.2500         2  \n",
       "1          PC 17599  71.2833         0  \n",
       "2  STON/O2. 3101282   7.9250         2  \n",
       "3            113803  53.1000         2  \n",
       "4            373450   8.0500         2  "
      ]
     },
     "execution_count": 3,
     "metadata": {},
     "output_type": "execute_result"
    }
   ],
   "source": [
    "# Some of the columns don't have predictive power, so let's specify which ones are included for prediction\n",
    "predictors = [\"Pclass\", \"Sex\", \"Age\", 'SibSp' ,'Parch', \"Fare\", \"Embarked\"]  \n",
    "# We need now to convert text columns in predictors to numerical ones\n",
    "for col in predictors: # Loop through all columns in predictors\n",
    "    if titanic[col].dtype == 'object':  # check if column's type is object (text)\n",
    "        titanic[col] = pd.Categorical(titanic[col]).codes  # convert text to numerical\n",
    "\n",
    "titanic.head()"
   ]
  },
  {
   "cell_type": "code",
   "execution_count": 4,
   "metadata": {},
   "outputs": [
    {
     "name": "stdout",
     "output_type": "stream",
     "text": [
      "train accuracy = 0.810593900482\n",
      "test accuracy = 0.768656716418\n",
      "cross validation accuracy = 0.790149007709\n"
     ]
    }
   ],
   "source": [
    "# Split the data into a training set and a testing set\n",
    "from sklearn.cross_validation import train_test_split \n",
    "X_train, X_test, y_train, y_test = train_test_split(titanic[predictors], titanic['Survived'], test_size=0.3, random_state=1)\n",
    "\n",
    "from sklearn.linear_model import LogisticRegression\n",
    "clf = LogisticRegression(random_state=1)\n",
    "clf.fit(X_train, y_train)\n",
    "train_score = clf.score(X_train, y_train)\n",
    "print ('train accuracy =', clf.score(X_train, y_train))\n",
    "print ('test accuracy =', clf.score(X_test, y_test))\n",
    "\n",
    "from sklearn import cross_validation\n",
    "scores = cross_validation.cross_val_score(clf, titanic[predictors], titanic[\"Survived\"], scoring='accuracy', cv=5)\n",
    "print('cross validation accuracy =', scores.mean())"
   ]
  },
  {
   "cell_type": "markdown",
   "metadata": {
    "collapsed": true
   },
   "source": [
    " # Decision Trees"
   ]
  },
  {
   "cell_type": "markdown",
   "metadata": {},
   "source": [
    "Let's start with one single tree"
   ]
  },
  {
   "cell_type": "code",
   "execution_count": 5,
   "metadata": {},
   "outputs": [
    {
     "name": "stdout",
     "output_type": "stream",
     "text": [
      "train accuracy = 0.988764044944\n",
      "test accuracy = 0.757462686567\n"
     ]
    }
   ],
   "source": [
    "# import from: http://scikit-learn.org/stable/modules/generated/sklearn.tree.DecisionTreeClassifier.html#sklearn.tree.DecisionTreeClassifier\n",
    "from sklearn.tree import DecisionTreeClassifier\n",
    "clf_dt = DecisionTreeClassifier(random_state=1)\n",
    "clf_dt.fit(X_train, y_train)\n",
    "train_score = clf_dt.score(X_train, y_train)\n",
    "test_score = clf_dt.score(X_test, y_test)\n",
    "print ('train accuracy =', train_score)\n",
    "print ('test accuracy =', test_score)"
   ]
  },
  {
   "cell_type": "markdown",
   "metadata": {},
   "source": [
    "Predictions are obtained in the same way of Logistic Regression"
   ]
  },
  {
   "cell_type": "code",
   "execution_count": 6,
   "metadata": {},
   "outputs": [
    {
     "name": "stdout",
     "output_type": "stream",
     "text": [
      "[1 0 1 1 1 0 0 1 0 1 0 0 0 0 1 0 0 0 0 0 0 0 1 0 0 0 1 1 0 1 0 0 1 0 0 0 1\n",
      " 0 1 0 0 0 1 0 1 0 0 0 1 1 1 1 1 0 0 0 0 0 0 0 0 0 0 0 1 0 0 0 1 0 0 0 0 0\n",
      " 1 0 1 0 0 1 0 0 0 0 0 0 0 0 0 1 0 0 0 1 0 0 0 1 0 0 0 0 1 0 1 0 0 0 0 0 1\n",
      " 1 0 0 0 0 0 0 1 0 1 1 0 0 1 1 1 1 0 0 0 0 1 0 1 1 1 0 0 1 1 0 1 0 0 0 1 0\n",
      " 0 0 1 0 0 0 0 1 0 0 1 0 0 0 1 1 0 0 1 0 1 0 1 0 1 0 1 0 0 0 1 0 1 1 0 0 1\n",
      " 0 0 1 0 1 0 1 1 1 0 1 0 1 0 0 0 1 0 1 0 0 1 0 0 0 1 0 0 1 0 0 0 1 1 0 0 0\n",
      " 1 1 0 0 1 1 1 0 1 0 1 0 0 0 0 1 0 0 0 0 0 1 0 1 1 1 0 1 0 0 1 1 1 1 1 1 0\n",
      " 0 1 0 1 0 0 0 0 1]\n"
     ]
    }
   ],
   "source": [
    "y_pred = clf_dt.predict(X_test)\n",
    "print (y_pred)"
   ]
  },
  {
   "cell_type": "code",
   "execution_count": 7,
   "metadata": {},
   "outputs": [
    {
     "name": "stdout",
     "output_type": "stream",
     "text": [
      "[[ 0.    1.  ]\n",
      " [ 1.    0.  ]\n",
      " [ 0.    1.  ]\n",
      " [ 0.    1.  ]\n",
      " [ 0.    1.  ]\n",
      " [ 1.    0.  ]\n",
      " [ 1.    0.  ]\n",
      " [ 0.    1.  ]\n",
      " [ 1.    0.  ]\n",
      " [ 0.    1.  ]\n",
      " [ 1.    0.  ]\n",
      " [ 1.    0.  ]\n",
      " [ 1.    0.  ]\n",
      " [ 1.    0.  ]\n",
      " [ 0.25  0.75]\n",
      " [ 1.    0.  ]\n",
      " [ 1.    0.  ]\n",
      " [ 1.    0.  ]\n",
      " [ 1.    0.  ]\n",
      " [ 1.    0.  ]\n",
      " [ 0.5   0.5 ]\n",
      " [ 1.    0.  ]\n",
      " [ 0.    1.  ]\n",
      " [ 1.    0.  ]\n",
      " [ 1.    0.  ]\n",
      " [ 1.    0.  ]\n",
      " [ 0.    1.  ]\n",
      " [ 0.    1.  ]\n",
      " [ 1.    0.  ]\n",
      " [ 0.    1.  ]\n",
      " [ 1.    0.  ]\n",
      " [ 1.    0.  ]\n",
      " [ 0.    1.  ]\n",
      " [ 1.    0.  ]\n",
      " [ 1.    0.  ]\n",
      " [ 1.    0.  ]\n",
      " [ 0.    1.  ]\n",
      " [ 1.    0.  ]\n",
      " [ 0.    1.  ]\n",
      " [ 1.    0.  ]\n",
      " [ 1.    0.  ]\n",
      " [ 1.    0.  ]\n",
      " [ 0.    1.  ]\n",
      " [ 1.    0.  ]\n",
      " [ 0.    1.  ]\n",
      " [ 1.    0.  ]\n",
      " [ 1.    0.  ]\n",
      " [ 1.    0.  ]\n",
      " [ 0.    1.  ]\n",
      " [ 0.    1.  ]\n",
      " [ 0.    1.  ]\n",
      " [ 0.    1.  ]\n",
      " [ 0.    1.  ]\n",
      " [ 1.    0.  ]\n",
      " [ 1.    0.  ]\n",
      " [ 1.    0.  ]\n",
      " [ 1.    0.  ]\n",
      " [ 1.    0.  ]\n",
      " [ 1.    0.  ]\n",
      " [ 1.    0.  ]\n",
      " [ 1.    0.  ]\n",
      " [ 0.8   0.2 ]\n",
      " [ 1.    0.  ]\n",
      " [ 1.    0.  ]\n",
      " [ 0.    1.  ]\n",
      " [ 1.    0.  ]\n",
      " [ 1.    0.  ]\n",
      " [ 1.    0.  ]\n",
      " [ 0.    1.  ]\n",
      " [ 1.    0.  ]\n",
      " [ 1.    0.  ]\n",
      " [ 1.    0.  ]\n",
      " [ 1.    0.  ]\n",
      " [ 1.    0.  ]\n",
      " [ 0.    1.  ]\n",
      " [ 1.    0.  ]\n",
      " [ 0.    1.  ]\n",
      " [ 1.    0.  ]\n",
      " [ 1.    0.  ]\n",
      " [ 0.    1.  ]\n",
      " [ 1.    0.  ]\n",
      " [ 1.    0.  ]\n",
      " [ 1.    0.  ]\n",
      " [ 1.    0.  ]\n",
      " [ 1.    0.  ]\n",
      " [ 1.    0.  ]\n",
      " [ 1.    0.  ]\n",
      " [ 1.    0.  ]\n",
      " [ 1.    0.  ]\n",
      " [ 0.    1.  ]\n",
      " [ 1.    0.  ]\n",
      " [ 1.    0.  ]\n",
      " [ 1.    0.  ]\n",
      " [ 0.25  0.75]\n",
      " [ 1.    0.  ]\n",
      " [ 1.    0.  ]\n",
      " [ 1.    0.  ]\n",
      " [ 0.    1.  ]\n",
      " [ 1.    0.  ]\n",
      " [ 1.    0.  ]\n",
      " [ 1.    0.  ]\n",
      " [ 1.    0.  ]\n",
      " [ 0.    1.  ]\n",
      " [ 1.    0.  ]\n",
      " [ 0.    1.  ]\n",
      " [ 1.    0.  ]\n",
      " [ 1.    0.  ]\n",
      " [ 1.    0.  ]\n",
      " [ 1.    0.  ]\n",
      " [ 1.    0.  ]\n",
      " [ 0.    1.  ]\n",
      " [ 0.    1.  ]\n",
      " [ 1.    0.  ]\n",
      " [ 1.    0.  ]\n",
      " [ 1.    0.  ]\n",
      " [ 1.    0.  ]\n",
      " [ 1.    0.  ]\n",
      " [ 1.    0.  ]\n",
      " [ 0.    1.  ]\n",
      " [ 1.    0.  ]\n",
      " [ 0.    1.  ]\n",
      " [ 0.    1.  ]\n",
      " [ 1.    0.  ]\n",
      " [ 1.    0.  ]\n",
      " [ 0.    1.  ]\n",
      " [ 0.    1.  ]\n",
      " [ 0.    1.  ]\n",
      " [ 0.    1.  ]\n",
      " [ 1.    0.  ]\n",
      " [ 1.    0.  ]\n",
      " [ 1.    0.  ]\n",
      " [ 0.5   0.5 ]\n",
      " [ 0.    1.  ]\n",
      " [ 1.    0.  ]\n",
      " [ 0.    1.  ]\n",
      " [ 0.    1.  ]\n",
      " [ 0.    1.  ]\n",
      " [ 1.    0.  ]\n",
      " [ 1.    0.  ]\n",
      " [ 0.    1.  ]\n",
      " [ 0.    1.  ]\n",
      " [ 1.    0.  ]\n",
      " [ 0.    1.  ]\n",
      " [ 1.    0.  ]\n",
      " [ 1.    0.  ]\n",
      " [ 1.    0.  ]\n",
      " [ 0.    1.  ]\n",
      " [ 1.    0.  ]\n",
      " [ 1.    0.  ]\n",
      " [ 1.    0.  ]\n",
      " [ 0.    1.  ]\n",
      " [ 1.    0.  ]\n",
      " [ 1.    0.  ]\n",
      " [ 1.    0.  ]\n",
      " [ 1.    0.  ]\n",
      " [ 0.    1.  ]\n",
      " [ 1.    0.  ]\n",
      " [ 1.    0.  ]\n",
      " [ 0.    1.  ]\n",
      " [ 1.    0.  ]\n",
      " [ 1.    0.  ]\n",
      " [ 1.    0.  ]\n",
      " [ 0.    1.  ]\n",
      " [ 0.    1.  ]\n",
      " [ 1.    0.  ]\n",
      " [ 1.    0.  ]\n",
      " [ 0.    1.  ]\n",
      " [ 1.    0.  ]\n",
      " [ 0.    1.  ]\n",
      " [ 1.    0.  ]\n",
      " [ 0.    1.  ]\n",
      " [ 1.    0.  ]\n",
      " [ 0.    1.  ]\n",
      " [ 1.    0.  ]\n",
      " [ 0.    1.  ]\n",
      " [ 1.    0.  ]\n",
      " [ 1.    0.  ]\n",
      " [ 1.    0.  ]\n",
      " [ 0.    1.  ]\n",
      " [ 1.    0.  ]\n",
      " [ 0.    1.  ]\n",
      " [ 0.    1.  ]\n",
      " [ 1.    0.  ]\n",
      " [ 1.    0.  ]\n",
      " [ 0.    1.  ]\n",
      " [ 1.    0.  ]\n",
      " [ 1.    0.  ]\n",
      " [ 0.    1.  ]\n",
      " [ 1.    0.  ]\n",
      " [ 0.    1.  ]\n",
      " [ 1.    0.  ]\n",
      " [ 0.    1.  ]\n",
      " [ 0.25  0.75]\n",
      " [ 0.    1.  ]\n",
      " [ 1.    0.  ]\n",
      " [ 0.    1.  ]\n",
      " [ 1.    0.  ]\n",
      " [ 0.    1.  ]\n",
      " [ 1.    0.  ]\n",
      " [ 1.    0.  ]\n",
      " [ 1.    0.  ]\n",
      " [ 0.    1.  ]\n",
      " [ 1.    0.  ]\n",
      " [ 0.    1.  ]\n",
      " [ 1.    0.  ]\n",
      " [ 1.    0.  ]\n",
      " [ 0.    1.  ]\n",
      " [ 1.    0.  ]\n",
      " [ 1.    0.  ]\n",
      " [ 0.5   0.5 ]\n",
      " [ 0.    1.  ]\n",
      " [ 1.    0.  ]\n",
      " [ 0.8   0.2 ]\n",
      " [ 0.    1.  ]\n",
      " [ 1.    0.  ]\n",
      " [ 1.    0.  ]\n",
      " [ 1.    0.  ]\n",
      " [ 0.    1.  ]\n",
      " [ 0.    1.  ]\n",
      " [ 1.    0.  ]\n",
      " [ 1.    0.  ]\n",
      " [ 1.    0.  ]\n",
      " [ 0.    1.  ]\n",
      " [ 0.    1.  ]\n",
      " [ 1.    0.  ]\n",
      " [ 1.    0.  ]\n",
      " [ 0.    1.  ]\n",
      " [ 0.    1.  ]\n",
      " [ 0.    1.  ]\n",
      " [ 1.    0.  ]\n",
      " [ 0.    1.  ]\n",
      " [ 1.    0.  ]\n",
      " [ 0.    1.  ]\n",
      " [ 0.5   0.5 ]\n",
      " [ 1.    0.  ]\n",
      " [ 1.    0.  ]\n",
      " [ 1.    0.  ]\n",
      " [ 0.25  0.75]\n",
      " [ 1.    0.  ]\n",
      " [ 1.    0.  ]\n",
      " [ 1.    0.  ]\n",
      " [ 1.    0.  ]\n",
      " [ 1.    0.  ]\n",
      " [ 0.    1.  ]\n",
      " [ 1.    0.  ]\n",
      " [ 0.    1.  ]\n",
      " [ 0.    1.  ]\n",
      " [ 0.    1.  ]\n",
      " [ 1.    0.  ]\n",
      " [ 0.    1.  ]\n",
      " [ 1.    0.  ]\n",
      " [ 1.    0.  ]\n",
      " [ 0.    1.  ]\n",
      " [ 0.    1.  ]\n",
      " [ 0.    1.  ]\n",
      " [ 0.    1.  ]\n",
      " [ 0.    1.  ]\n",
      " [ 0.    1.  ]\n",
      " [ 1.    0.  ]\n",
      " [ 1.    0.  ]\n",
      " [ 0.    1.  ]\n",
      " [ 1.    0.  ]\n",
      " [ 0.25  0.75]\n",
      " [ 1.    0.  ]\n",
      " [ 1.    0.  ]\n",
      " [ 0.5   0.5 ]\n",
      " [ 1.    0.  ]\n",
      " [ 0.    1.  ]]\n"
     ]
    }
   ],
   "source": [
    "y_prob = clf_dt.predict_proba(X_test)\n",
    "print (y_prob)"
   ]
  },
  {
   "cell_type": "markdown",
   "metadata": {},
   "source": [
    "Let's play around with some of the decision tree's parameters"
   ]
  },
  {
   "cell_type": "code",
   "execution_count": 8,
   "metadata": {},
   "outputs": [
    {
     "name": "stdout",
     "output_type": "stream",
     "text": [
      "train accuracy = 0.857142857143\n",
      "cross validation accuracy = 0.809199914745\n"
     ]
    }
   ],
   "source": [
    "# check the sklearn documentation and change the folowing parametrs: max_depth, min_samples_split, min_samples_leaf \n",
    "clf_dt = DecisionTreeClassifier(random_state=1, max_depth=3)\n",
    "clf_dt.fit(X_train, y_train)\n",
    "print ('train accuracy =', clf_dt.score(X_train, y_train))\n",
    "\n",
    "# Cross validation\n",
    "scores_dt = cross_validation.cross_val_score(clf_dt, titanic[predictors], titanic[\"Survived\"], scoring='accuracy', cv=5)\n",
    "print('cross validation accuracy =',scores_dt.mean())"
   ]
  },
  {
   "cell_type": "markdown",
   "metadata": {
    "collapsed": true
   },
   "source": [
    "### Plot the decision tree\n",
    "Open the tree.dot file in a text editor, copy the piece of code and paste it  [ @ webgraphviz.com](http://webgraphviz.com/)"
   ]
  },
  {
   "cell_type": "code",
   "execution_count": 9,
   "metadata": {},
   "outputs": [
    {
     "name": "stdout",
     "output_type": "stream",
     "text": [
      "{0: 'Pclass', 1: 'Sex', 2: 'Age', 3: 'SibSp', 4: 'Parch', 5: 'Fare', 6: 'Embarked'}\n"
     ]
    }
   ],
   "source": [
    "from sklearn import tree\n",
    "tree.export_graphviz(clf_dt, out_file='tree.dot')\n",
    "# As a reminder, these are the predicting features in order\n",
    "print (dict(zip(range(len(predictors)),predictors)))"
   ]
  },
  {
   "cell_type": "markdown",
   "metadata": {},
   "source": [
    "The image should look like the following"
   ]
  },
  {
   "cell_type": "code",
   "execution_count": 10,
   "metadata": {},
   "outputs": [
    {
     "data": {
      "image/png": "[encoded data removed]",
      "text/plain": [
       "<IPython.core.display.Image object>"
      ]
     },
     "execution_count": 10,
     "metadata": {},
     "output_type": "execute_result"
    }
   ],
   "source": [
    "from IPython.display import Image\n",
    "Image(\"DT.png\")"
   ]
  },
  {
   "cell_type": "markdown",
   "metadata": {},
   "source": [
    "Predict the probability of a female, Pclass 1 or 2, above age 2.5"
   ]
  },
  {
   "cell_type": "code",
   "execution_count": 11,
   "metadata": {},
   "outputs": [
    {
     "name": "stdout",
     "output_type": "stream",
     "text": [
      "proba = [[ 0.04347826  0.95652174]]\n",
      "class = [1]\n"
     ]
    }
   ],
   "source": [
    "passenger1=np.array([1,0,3,0,0,0,0]).reshape(1, -1)\n",
    "print ('proba =', clf_dt.predict_proba(passenger1))\n",
    "print ('class =', clf_dt.predict(passenger1))"
   ]
  },
  {
   "cell_type": "markdown",
   "metadata": {},
   "source": [
    "Predict the probability of a male, above age 11.5, Pclass 2 or 3"
   ]
  },
  {
   "cell_type": "code",
   "execution_count": 12,
   "metadata": {},
   "outputs": [
    {
     "name": "stdout",
     "output_type": "stream",
     "text": [
      "proba = [[ 0.91089109  0.08910891]]\n",
      "class = [0]\n"
     ]
    }
   ],
   "source": [
    "passenger2=np.array([2,1,12,0,0,0,0]).reshape(1, -1)\n",
    "print ('proba =', clf_dt.predict_proba(passenger2))\n",
    "print ('class =', clf_dt.predict(passenger2))"
   ]
  },
  {
   "cell_type": "markdown",
   "metadata": {},
   "source": [
    "By looking at this decision tree, you can get a sense the relative importance between features. let's see which are the most important ones using the attribute: **feature\\_importances_**"
   ]
  },
  {
   "cell_type": "code",
   "execution_count": 13,
   "metadata": {},
   "outputs": [
    {
     "data": {
      "text/html": [
       "<div>\n",
       "<table border=\"1\" class=\"dataframe\">\n",
       "  <thead>\n",
       "    <tr style=\"text-align: right;\">\n",
       "      <th></th>\n",
       "      <th>Importance</th>\n",
       "    </tr>\n",
       "  </thead>\n",
       "  <tbody>\n",
       "    <tr>\n",
       "      <th>Sex</th>\n",
       "      <td>0.611786</td>\n",
       "    </tr>\n",
       "    <tr>\n",
       "      <th>Pclass</th>\n",
       "      <td>0.189001</td>\n",
       "    </tr>\n",
       "    <tr>\n",
       "      <th>Age</th>\n",
       "      <td>0.084796</td>\n",
       "    </tr>\n",
       "    <tr>\n",
       "      <th>SibSp</th>\n",
       "      <td>0.064193</td>\n",
       "    </tr>\n",
       "    <tr>\n",
       "      <th>Embarked</th>\n",
       "      <td>0.050225</td>\n",
       "    </tr>\n",
       "    <tr>\n",
       "      <th>Parch</th>\n",
       "      <td>0.000000</td>\n",
       "    </tr>\n",
       "    <tr>\n",
       "      <th>Fare</th>\n",
       "      <td>0.000000</td>\n",
       "    </tr>\n",
       "  </tbody>\n",
       "</table>\n",
       "</div>"
      ],
      "text/plain": [
       "          Importance\n",
       "Sex         0.611786\n",
       "Pclass      0.189001\n",
       "Age         0.084796\n",
       "SibSp       0.064193\n",
       "Embarked    0.050225\n",
       "Parch       0.000000\n",
       "Fare        0.000000"
      ]
     },
     "execution_count": 13,
     "metadata": {},
     "output_type": "execute_result"
    }
   ],
   "source": [
    "feat_imp = pd.DataFrame(clf_dt.feature_importances_, predictors, columns=['Importance'])\n",
    "feat_imp.sort_values('Importance', ascending=False)"
   ]
  },
  {
   "cell_type": "markdown",
   "metadata": {},
   "source": [
    "As expected, **Parch** and **Fare** are the least important ones because they were not used for splitting, while **Sex** is the most important one since it was used first for splitting. "
   ]
  },
  {
   "cell_type": "markdown",
   "metadata": {},
   "source": [
    "# Random Forest\n",
    "A   [Random Forest](http://scikit-learn.org/stable/modules/generated/sklearn.ensemble.RandomForestClassifier.html#sklearn.ensemble.RandomForestClassifier from sklearn.ensemble import RandomForestClassifier) is an ensemble of [decision trees](http://scikit-learn.org/stable/modules/generated/sklearn.tree.DecisionTreeClassifier.html#sklearn.tree.DecisionTreeClassifier)"
   ]
  },
  {
   "cell_type": "code",
   "execution_count": 14,
   "metadata": {},
   "outputs": [
    {
     "name": "stdout",
     "output_type": "stream",
     "text": [
      "train accuracy = 0.974317817014\n",
      "cross validation accuracy = 0.813763415464\n"
     ]
    }
   ],
   "source": [
    "# import from: http://scikit-learn.org/stable/modules/generated/sklearn.ensemble.RandomForestClassifier.html#sklearn.ensemble.RandomForestClassifier\n",
    "from sklearn.ensemble import RandomForestClassifier\n",
    "clf_rf = RandomForestClassifier(random_state=1)  # by default, 10 trees are used\n",
    "clf_rf.fit(X_train, y_train)\n",
    "print ('train accuracy =', clf_rf.score(X_train, y_train))\n",
    "\n",
    "# Cross validation\n",
    "scores_rf = cross_validation.cross_val_score(clf_rf, titanic[predictors], titanic[\"Survived\"], scoring='accuracy', cv=5)\n",
    "print('cross validation accuracy =',scores_rf.mean())"
   ]
  },
  {
   "cell_type": "markdown",
   "metadata": {},
   "source": [
    "In the same way, you can print the feature importance of all the trees"
   ]
  },
  {
   "cell_type": "code",
   "execution_count": 15,
   "metadata": {},
   "outputs": [
    {
     "data": {
      "text/html": [
       "<div>\n",
       "<table border=\"1\" class=\"dataframe\">\n",
       "  <thead>\n",
       "    <tr style=\"text-align: right;\">\n",
       "      <th></th>\n",
       "      <th>Importance</th>\n",
       "    </tr>\n",
       "  </thead>\n",
       "  <tbody>\n",
       "    <tr>\n",
       "      <th>Age</th>\n",
       "      <td>0.266266</td>\n",
       "    </tr>\n",
       "    <tr>\n",
       "      <th>Fare</th>\n",
       "      <td>0.257963</td>\n",
       "    </tr>\n",
       "    <tr>\n",
       "      <th>Sex</th>\n",
       "      <td>0.239376</td>\n",
       "    </tr>\n",
       "    <tr>\n",
       "      <th>Pclass</th>\n",
       "      <td>0.087316</td>\n",
       "    </tr>\n",
       "    <tr>\n",
       "      <th>SibSp</th>\n",
       "      <td>0.061535</td>\n",
       "    </tr>\n",
       "    <tr>\n",
       "      <th>Parch</th>\n",
       "      <td>0.054428</td>\n",
       "    </tr>\n",
       "    <tr>\n",
       "      <th>Embarked</th>\n",
       "      <td>0.033116</td>\n",
       "    </tr>\n",
       "  </tbody>\n",
       "</table>\n",
       "</div>"
      ],
      "text/plain": [
       "          Importance\n",
       "Age         0.266266\n",
       "Fare        0.257963\n",
       "Sex         0.239376\n",
       "Pclass      0.087316\n",
       "SibSp       0.061535\n",
       "Parch       0.054428\n",
       "Embarked    0.033116"
      ]
     },
     "execution_count": 15,
     "metadata": {},
     "output_type": "execute_result"
    }
   ],
   "source": [
    "feat_imp = pd.DataFrame(clf_rf.feature_importances_, predictors, columns=['Importance'])\n",
    "feat_imp.sort_values('Importance', ascending=False)"
   ]
  },
  {
   "cell_type": "markdown",
   "metadata": {},
   "source": [
    "Random forest, like decision trees have a lot of parameters to tune. Usually, performance does not change linearly with parameters. Let's take as an example, the accuracy as a function of number of trees (**n_estimators**)"
   ]
  },
  {
   "cell_type": "code",
   "execution_count": 16,
   "metadata": {
    "scrolled": true
   },
   "outputs": [
    {
     "data": {
      "text/plain": [
       "<matplotlib.text.Text at 0xb17fe10>"
      ]
     },
     "execution_count": 16,
     "metadata": {},
     "output_type": "execute_result"
    },
    {
     "data": {
      "image/png": "[encoded data removed]",
      "text/plain": [
       "<matplotlib.figure.Figure at 0x9870358>"
      ]
     },
     "metadata": {},
     "output_type": "display_data"
    }
   ],
   "source": [
    "%matplotlib inline\n",
    "import matplotlib.pyplot as plt\n",
    "\n",
    "trees=range(50)\n",
    "accuracy=np.zeros(50)\n",
    "for idx in range(len(trees)):\n",
    "    clf_rf=RandomForestClassifier(random_state=1, n_estimators=idx + 1)\n",
    "    clf_rf.fit(X_train,y_train)\n",
    "    accuracy[idx]=clf_rf.score(X_test, y_test)  \n",
    "\n",
    "plt.plot(trees, accuracy)\n",
    "plt.ylabel('accuracy')\n",
    "plt.xlabel('Number of Trees')"
   ]
  },
  {
   "cell_type": "markdown",
   "metadata": {},
   "source": [
    "In the following, try to tune manually the following parameters: **min_samples_leaf, min_samples_split, max_depth, n_estimators** in order to increase cross validation accuracy."
   ]
  },
  {
   "cell_type": "code",
   "execution_count": 17,
   "metadata": {},
   "outputs": [
    {
     "name": "stdout",
     "output_type": "stream",
     "text": [
      "train accuracy = 0.841091492777\n",
      "cross validation accuracy = 0.786935502575\n"
     ]
    }
   ],
   "source": [
    "clf_rf = RandomForestClassifier(random_state=1, min_samples_leaf=1, min_samples_split=2, max_depth=3, n_estimators=15)\n",
    "clf_rf.fit(X_train, y_train)\n",
    "print ('train accuracy =', clf_rf.score(X_train, y_train))\n",
    "\n",
    "# Cross validation\n",
    "scores_rf = cross_validation.cross_val_score(clf_rf, titanic[predictors], titanic[\"Survived\"], scoring='accuracy', cv=5)\n",
    "print('cross validation accuracy =', scores_rf.mean())"
   ]
  },
  {
   "cell_type": "markdown",
   "metadata": {},
   "source": [
    "This might be a difficult job to do manually. In other way is to search automatically the best combination of different ranges for these parameters. This is done using **Grid Search**"
   ]
  },
  {
   "cell_type": "markdown",
   "metadata": {},
   "source": [
    "# Grid Search"
   ]
  },
  {
   "cell_type": "code",
   "execution_count": 18,
   "metadata": {},
   "outputs": [
    {
     "data": {
      "text/plain": [
       "GridSearchCV(cv=5, error_score='raise',\n",
       "       estimator=RandomForestClassifier(bootstrap=True, class_weight=None, criterion='gini',\n",
       "            max_depth=None, max_features='auto', max_leaf_nodes=None,\n",
       "            min_samples_leaf=1, min_samples_split=2,\n",
       "            min_weight_fraction_leaf=0.0, n_estimators=10, n_jobs=1,\n",
       "            oob_score=False, random_state=1, verbose=0, warm_start=False),\n",
       "       fit_params={}, iid=True, n_jobs=1,\n",
       "       param_grid={'min_samples_split': [2, 4, 6, 8], 'n_estimators': [10, 20, 30, 40], 'min_samples_leaf': [1, 2, 3, 4]},\n",
       "       pre_dispatch='2*n_jobs', refit=True, scoring='accuracy', verbose=0)"
      ]
     },
     "execution_count": 18,
     "metadata": {},
     "output_type": "execute_result"
    }
   ],
   "source": [
    "# Documentation: http://scikit-learn.org/stable/modules/generated/sklearn.model_selection.GridSearchCV.html#sklearn.model_selection.GridSearchCV\n",
    "from sklearn.grid_search import GridSearchCV\n",
    "params = {'min_samples_leaf':list(range(1,5)),'min_samples_split':list(range(2,10,2)),\n",
    "          'n_estimators':list(range(10,50,10))}\n",
    "clf_rf2=RandomForestClassifier(random_state=1)\n",
    "clf_gs=GridSearchCV(clf_rf2, params, scoring = 'accuracy',cv=5)\n",
    "clf_gs.fit(titanic[predictors], titanic[\"Survived\"])"
   ]
  },
  {
   "cell_type": "markdown",
   "metadata": {},
   "source": [
    "Print the best score"
   ]
  },
  {
   "cell_type": "code",
   "execution_count": 19,
   "metadata": {},
   "outputs": [
    {
     "data": {
      "text/plain": [
       "0.83277216610549942"
      ]
     },
     "execution_count": 19,
     "metadata": {},
     "output_type": "execute_result"
    }
   ],
   "source": [
    "clf_gs.best_score_"
   ]
  },
  {
   "cell_type": "markdown",
   "metadata": {},
   "source": [
    "Print the best parameters"
   ]
  },
  {
   "cell_type": "code",
   "execution_count": 20,
   "metadata": {},
   "outputs": [
    {
     "data": {
      "text/plain": [
       "{'min_samples_leaf': 4, 'min_samples_split': 2, 'n_estimators': 30}"
      ]
     },
     "execution_count": 20,
     "metadata": {},
     "output_type": "execute_result"
    }
   ],
   "source": [
    "clf_gs.best_params_"
   ]
  },
  {
   "cell_type": "markdown",
   "metadata": {},
   "source": [
    "Let's use these best parameters and check whether they achieve really the above cv accuracy"
   ]
  },
  {
   "cell_type": "code",
   "execution_count": 21,
   "metadata": {},
   "outputs": [
    {
     "name": "stdout",
     "output_type": "stream",
     "text": [
      "train accuracy = 0.886035313002\n",
      "cross validation accuracy = 0.832820954207\n"
     ]
    }
   ],
   "source": [
    "clf_rf3 = RandomForestClassifier(random_state=1, min_samples_leaf= 4, min_samples_split= 2, n_estimators= 30) \n",
    "clf_rf3.fit(X_train, y_train)\n",
    "print ('train accuracy =', clf_rf3.score(X_train, y_train))\n",
    "\n",
    "scores_rf3 = cross_validation.cross_val_score(clf_rf3, titanic[predictors], titanic[\"Survived\"], scoring='accuracy', cv=5)\n",
    "print('cross validation accuracy =',scores_rf3.mean())"
   ]
  },
  {
   "cell_type": "markdown",
   "metadata": {
    "collapsed": true
   },
   "source": [
    "As you can see, grid search allows you to find the best model parameters to improve your accuracy. Now, we can see the most important features of this last classifier"
   ]
  },
  {
   "cell_type": "code",
   "execution_count": 22,
   "metadata": {},
   "outputs": [
    {
     "data": {
      "text/html": [
       "<div>\n",
       "<table border=\"1\" class=\"dataframe\">\n",
       "  <thead>\n",
       "    <tr style=\"text-align: right;\">\n",
       "      <th></th>\n",
       "      <th>Importance</th>\n",
       "    </tr>\n",
       "  </thead>\n",
       "  <tbody>\n",
       "    <tr>\n",
       "      <th>Sex</th>\n",
       "      <td>0.387434</td>\n",
       "    </tr>\n",
       "    <tr>\n",
       "      <th>Fare</th>\n",
       "      <td>0.204499</td>\n",
       "    </tr>\n",
       "    <tr>\n",
       "      <th>Age</th>\n",
       "      <td>0.147745</td>\n",
       "    </tr>\n",
       "    <tr>\n",
       "      <th>Pclass</th>\n",
       "      <td>0.130683</td>\n",
       "    </tr>\n",
       "    <tr>\n",
       "      <th>SibSp</th>\n",
       "      <td>0.053662</td>\n",
       "    </tr>\n",
       "    <tr>\n",
       "      <th>Parch</th>\n",
       "      <td>0.040667</td>\n",
       "    </tr>\n",
       "    <tr>\n",
       "      <th>Embarked</th>\n",
       "      <td>0.035311</td>\n",
       "    </tr>\n",
       "  </tbody>\n",
       "</table>\n",
       "</div>"
      ],
      "text/plain": [
       "          Importance\n",
       "Sex         0.387434\n",
       "Fare        0.204499\n",
       "Age         0.147745\n",
       "Pclass      0.130683\n",
       "SibSp       0.053662\n",
       "Parch       0.040667\n",
       "Embarked    0.035311"
      ]
     },
     "execution_count": 22,
     "metadata": {},
     "output_type": "execute_result"
    }
   ],
   "source": [
    "feat_imp = pd.DataFrame(clf_rf3.feature_importances_, predictors, columns=['Importance'])\n",
    "feat_imp.sort_values('Importance', ascending=False)"
   ]
  },
  {
   "cell_type": "code",
   "execution_count": null,
   "metadata": {
    "collapsed": true
   },
   "outputs": [],
   "source": []
  }
 ],
 "metadata": {
  "anaconda-cloud": {},
  "kernelspec": {
   "display_name": "Python 3",
   "language": "python",
   "name": "python3"
  },
  "language_info": {
   "codemirror_mode": {
    "name": "ipython",
    "version": 3
   },
   "file_extension": ".py",
   "mimetype": "text/x-python",
   "name": "python",
   "nbconvert_exporter": "python",
   "pygments_lexer": "ipython3",
   "version": "3.6.5"
  }
 },
 "nbformat": 4,
 "nbformat_minor": 1
}
