{
 "cells": [
  {
   "cell_type": "markdown",
   "metadata": {
    "collapsed": true,
    "pycharm": {
     "name": "#%% md\n"
    }
   },
   "source": [
    "# TOP 50 Spotify songs "
   ]
  },
  {
   "cell_type": "code",
   "execution_count": 292,
   "outputs": [
    {
     "data": {
      "text/plain": "                        Track.Name    Artist.Name           Genre  \\\n1                         Señorita   Shawn Mendes    canadian pop   \n2                            China       Anuel AA  reggaeton flow   \n3    boyfriend (with Social House)  Ariana Grande       dance pop   \n4  Beautiful People (feat. Khalid)     Ed Sheeran             pop   \n5      Goodbyes (Feat. Young Thug)    Post Malone         dfw rap   \n\n   Beats.Per.Minute  Energy  Danceability  Loudness..dB..  Liveness  Valence.  \\\n1               117      55            76              -6         8        75   \n2               105      81            79              -4         8        61   \n3               190      80            40              -4        16        70   \n4                93      65            64              -8         8        55   \n5               150      65            58              -4        11        18   \n\n   Length.  Acousticness..  Speechiness.  Popularity  \n1      191               4             3          79  \n2      302               8             9          92  \n3      186              12            46          85  \n4      198              12            19          86  \n5      175              45             7          94  ",
      "text/html": "<div>\n<style scoped>\n    .dataframe tbody tr th:only-of-type {\n        vertical-align: middle;\n    }\n\n    .dataframe tbody tr th {\n        vertical-align: top;\n    }\n\n    .dataframe thead th {\n        text-align: right;\n    }\n</style>\n<table border=\"1\" class=\"dataframe\">\n  <thead>\n    <tr style=\"text-align: right;\">\n      <th></th>\n      <th>Track.Name</th>\n      <th>Artist.Name</th>\n      <th>Genre</th>\n      <th>Beats.Per.Minute</th>\n      <th>Energy</th>\n      <th>Danceability</th>\n      <th>Loudness..dB..</th>\n      <th>Liveness</th>\n      <th>Valence.</th>\n      <th>Length.</th>\n      <th>Acousticness..</th>\n      <th>Speechiness.</th>\n      <th>Popularity</th>\n    </tr>\n  </thead>\n  <tbody>\n    <tr>\n      <th>1</th>\n      <td>Señorita</td>\n      <td>Shawn Mendes</td>\n      <td>canadian pop</td>\n      <td>117</td>\n      <td>55</td>\n      <td>76</td>\n      <td>-6</td>\n      <td>8</td>\n      <td>75</td>\n      <td>191</td>\n      <td>4</td>\n      <td>3</td>\n      <td>79</td>\n    </tr>\n    <tr>\n      <th>2</th>\n      <td>China</td>\n      <td>Anuel AA</td>\n      <td>reggaeton flow</td>\n      <td>105</td>\n      <td>81</td>\n      <td>79</td>\n      <td>-4</td>\n      <td>8</td>\n      <td>61</td>\n      <td>302</td>\n      <td>8</td>\n      <td>9</td>\n      <td>92</td>\n    </tr>\n    <tr>\n      <th>3</th>\n      <td>boyfriend (with Social House)</td>\n      <td>Ariana Grande</td>\n      <td>dance pop</td>\n      <td>190</td>\n      <td>80</td>\n      <td>40</td>\n      <td>-4</td>\n      <td>16</td>\n      <td>70</td>\n      <td>186</td>\n      <td>12</td>\n      <td>46</td>\n      <td>85</td>\n    </tr>\n    <tr>\n      <th>4</th>\n      <td>Beautiful People (feat. Khalid)</td>\n      <td>Ed Sheeran</td>\n      <td>pop</td>\n      <td>93</td>\n      <td>65</td>\n      <td>64</td>\n      <td>-8</td>\n      <td>8</td>\n      <td>55</td>\n      <td>198</td>\n      <td>12</td>\n      <td>19</td>\n      <td>86</td>\n    </tr>\n    <tr>\n      <th>5</th>\n      <td>Goodbyes (Feat. Young Thug)</td>\n      <td>Post Malone</td>\n      <td>dfw rap</td>\n      <td>150</td>\n      <td>65</td>\n      <td>58</td>\n      <td>-4</td>\n      <td>11</td>\n      <td>18</td>\n      <td>175</td>\n      <td>45</td>\n      <td>7</td>\n      <td>94</td>\n    </tr>\n  </tbody>\n</table>\n</div>"
     },
     "metadata": {},
     "output_type": "execute_result",
     "execution_count": 292
    }
   ],
   "source": [
    "import numpy as np # linear algebra\n",
    "import pandas as pd # data processing, CSV file I/O (e.g. pd.read_csv)          \n",
    "import matplotlib.pyplot as plt\n",
    "import seaborn as sns\n",
    "\n",
    "df = pd.read_csv('top50.csv', index_col=0, encoding='ISO-8859-1')\n",
    "df.head()\n"
   ],
   "metadata": {
    "collapsed": false,
    "pycharm": {
     "name": "#%%\n",
     "is_executing": false
    }
   }
  },
  {
   "cell_type": "markdown",
   "source": [
    "## Data Information:\n",
    "\n",
    "- Track Name - Name of the song including featured artists\n",
    "- Artist Name - Name of the artist\n",
    "- Genre - Genre of the song\n",
    "- Beats per Minute - The tempo of the song.\n",
    "- Energy - The energy of a song. The higher the value, the more energtic the song\n",
    "- Danceability - The higher the value, the easier it is to dance to this song.\n",
    "- Loudness..dB.. - The higher the value, the louder the song.\n",
    "- Liveness - The higher the value, the more likely the song is a live recording.\n",
    "- Valence - The higher the value, the more positive mood for the song.\n",
    "- Length - The duration of the song.\n",
    "- Acousticness - The higher the value the more acoustic the song is.\n",
    "- Speechiness - The higher the value the more spoken word the song contains.\n",
    "- Popularity - The higher the value the more popular the song is.\n",
    "\n",
    "## Display info dataset"
   ],
   "metadata": {
    "collapsed": false
   }
  },
  {
   "cell_type": "code",
   "execution_count": 293,
   "outputs": [
    {
     "name": "stdout",
     "text": [
      "<class 'pandas.core.frame.DataFrame'>\n",
      "Int64Index: 50 entries, 1 to 50\n",
      "Data columns (total 13 columns):\n",
      "Track.Name          50 non-null object\n",
      "Artist.Name         50 non-null object\n",
      "Genre               50 non-null object\n",
      "Beats.Per.Minute    50 non-null int64\n",
      "Energy              50 non-null int64\n",
      "Danceability        50 non-null int64\n",
      "Loudness..dB..      50 non-null int64\n",
      "Liveness            50 non-null int64\n",
      "Valence.            50 non-null int64\n",
      "Length.             50 non-null int64\n",
      "Acousticness..      50 non-null int64\n",
      "Speechiness.        50 non-null int64\n",
      "Popularity          50 non-null int64\n",
      "dtypes: int64(10), object(3)\n",
      "memory usage: 4.9+ KB\n"
     ],
     "output_type": "stream"
    }
   ],
   "source": [
    "df.info()\n"
   ],
   "metadata": {
    "collapsed": false,
    "pycharm": {
     "name": "#%%\n",
     "is_executing": false
    }
   }
  },
  {
   "cell_type": "markdown",
   "source": [
    "Check if some of datasets are not complete "
   ],
   "metadata": {
    "collapsed": false
   }
  },
  {
   "cell_type": "code",
   "execution_count": 294,
   "outputs": [
    {
     "data": {
      "text/plain": "Track.Name          0\nArtist.Name         0\nGenre               0\nBeats.Per.Minute    0\nEnergy              0\nDanceability        0\nLoudness..dB..      0\nLiveness            0\nValence.            0\nLength.             0\nAcousticness..      0\nSpeechiness.        0\nPopularity          0\ndtype: int64"
     },
     "metadata": {},
     "output_type": "execute_result",
     "execution_count": 294
    }
   ],
   "source": [
    "df.isnull().sum()"
   ],
   "metadata": {
    "collapsed": false,
    "pycharm": {
     "name": "#%%\n",
     "is_executing": false
    }
   }
  },
  {
   "cell_type": "markdown",
   "source": [
    "Dimensions of data set"
   ],
   "metadata": {
    "collapsed": false,
    "pycharm": {
     "name": "#%% md\n"
    }
   }
  },
  {
   "cell_type": "code",
   "execution_count": 295,
   "outputs": [
    {
     "name": "stdout",
     "text": [
      "Number of rows in the dataset:  50\n",
      "Number of columns in the dataset:  13\n"
     ],
     "output_type": "stream"
    }
   ],
   "source": [
    "print('Number of rows in the dataset: ',df.shape[0])\n",
    "print('Number of columns in the dataset: ',df.shape[1])"
   ],
   "metadata": {
    "collapsed": false,
    "pycharm": {
     "name": "#%%\n",
     "is_executing": false
    }
   }
  },
  {
   "cell_type": "markdown",
   "source": [
    "Basic statistical details "
   ],
   "metadata": {
    "collapsed": false
   }
  },
  {
   "cell_type": "code",
   "execution_count": 296,
   "outputs": [
    {
     "data": {
      "text/plain": "       Beats.Per.Minute  Energy  Danceability  Loudness..dB..  Liveness  \\\ncount            50.000  50.000         50.00          50.000    50.000   \nmean            120.060  64.060         71.38          -5.660    14.660   \nstd              30.898  14.232         11.93           2.056    11.118   \nmin              85.000  32.000         29.00         -11.000     5.000   \n25%              96.000  55.250         67.00          -6.750     8.000   \n50%             104.500  66.500         73.50          -6.000    11.000   \n75%             137.500  74.750         79.75          -4.000    15.750   \nmax             190.000  88.000         90.00          -2.000    58.000   \n\n       Valence.  Length.  Acousticness..  Speechiness.  Popularity  \ncount    50.000   50.000          50.000        50.000      50.000  \nmean     54.600  200.960          22.160        12.480      87.500  \nstd      22.336   39.144          18.996        11.162       4.491  \nmin      10.000  115.000           1.000         3.000      70.000  \n25%      38.250  176.750           8.250         5.000      86.000  \n50%      55.500  198.000          15.000         7.000      88.000  \n75%      69.500  217.500          33.750        15.000      90.750  \nmax      95.000  309.000          75.000        46.000      95.000  ",
      "text/html": "<div>\n<style scoped>\n    .dataframe tbody tr th:only-of-type {\n        vertical-align: middle;\n    }\n\n    .dataframe tbody tr th {\n        vertical-align: top;\n    }\n\n    .dataframe thead th {\n        text-align: right;\n    }\n</style>\n<table border=\"1\" class=\"dataframe\">\n  <thead>\n    <tr style=\"text-align: right;\">\n      <th></th>\n      <th>Beats.Per.Minute</th>\n      <th>Energy</th>\n      <th>Danceability</th>\n      <th>Loudness..dB..</th>\n      <th>Liveness</th>\n      <th>Valence.</th>\n      <th>Length.</th>\n      <th>Acousticness..</th>\n      <th>Speechiness.</th>\n      <th>Popularity</th>\n    </tr>\n  </thead>\n  <tbody>\n    <tr>\n      <th>count</th>\n      <td>50.000</td>\n      <td>50.000</td>\n      <td>50.00</td>\n      <td>50.000</td>\n      <td>50.000</td>\n      <td>50.000</td>\n      <td>50.000</td>\n      <td>50.000</td>\n      <td>50.000</td>\n      <td>50.000</td>\n    </tr>\n    <tr>\n      <th>mean</th>\n      <td>120.060</td>\n      <td>64.060</td>\n      <td>71.38</td>\n      <td>-5.660</td>\n      <td>14.660</td>\n      <td>54.600</td>\n      <td>200.960</td>\n      <td>22.160</td>\n      <td>12.480</td>\n      <td>87.500</td>\n    </tr>\n    <tr>\n      <th>std</th>\n      <td>30.898</td>\n      <td>14.232</td>\n      <td>11.93</td>\n      <td>2.056</td>\n      <td>11.118</td>\n      <td>22.336</td>\n      <td>39.144</td>\n      <td>18.996</td>\n      <td>11.162</td>\n      <td>4.491</td>\n    </tr>\n    <tr>\n      <th>min</th>\n      <td>85.000</td>\n      <td>32.000</td>\n      <td>29.00</td>\n      <td>-11.000</td>\n      <td>5.000</td>\n      <td>10.000</td>\n      <td>115.000</td>\n      <td>1.000</td>\n      <td>3.000</td>\n      <td>70.000</td>\n    </tr>\n    <tr>\n      <th>25%</th>\n      <td>96.000</td>\n      <td>55.250</td>\n      <td>67.00</td>\n      <td>-6.750</td>\n      <td>8.000</td>\n      <td>38.250</td>\n      <td>176.750</td>\n      <td>8.250</td>\n      <td>5.000</td>\n      <td>86.000</td>\n    </tr>\n    <tr>\n      <th>50%</th>\n      <td>104.500</td>\n      <td>66.500</td>\n      <td>73.50</td>\n      <td>-6.000</td>\n      <td>11.000</td>\n      <td>55.500</td>\n      <td>198.000</td>\n      <td>15.000</td>\n      <td>7.000</td>\n      <td>88.000</td>\n    </tr>\n    <tr>\n      <th>75%</th>\n      <td>137.500</td>\n      <td>74.750</td>\n      <td>79.75</td>\n      <td>-4.000</td>\n      <td>15.750</td>\n      <td>69.500</td>\n      <td>217.500</td>\n      <td>33.750</td>\n      <td>15.000</td>\n      <td>90.750</td>\n    </tr>\n    <tr>\n      <th>max</th>\n      <td>190.000</td>\n      <td>88.000</td>\n      <td>90.00</td>\n      <td>-2.000</td>\n      <td>58.000</td>\n      <td>95.000</td>\n      <td>309.000</td>\n      <td>75.000</td>\n      <td>46.000</td>\n      <td>95.000</td>\n    </tr>\n  </tbody>\n</table>\n</div>"
     },
     "metadata": {},
     "output_type": "execute_result",
     "execution_count": 296
    }
   ],
   "source": [
    "df.describe().round(decimals=3)"
   ],
   "metadata": {
    "collapsed": false,
    "pycharm": {
     "name": "#%%\n",
     "is_executing": false
    }
   }
  },
  {
   "cell_type": "markdown",
   "source": [
    "The features described in the above data set are:\n",
    "\n",
    "1. **Count** tells us the number of NoN-empty rows in a feature.\n",
    "\n",
    "2. **Mean** tells us the mean value of that feature.\n",
    "\n",
    "3. **Std** tells us the Standard Deviation Value of that feature.\n",
    "\n",
    "4. **Min** tells us the minimum value of that feature.\n",
    "\n",
    "5. **25%, 50%, and 75%** are the percentile/quartile of each features.\n",
    "\n",
    "6. **Max** tells us the maximum value of that feature.\n"
   ],
   "metadata": {
    "collapsed": false
   }
  },
  {
   "cell_type": "markdown",
   "source": [
    "### Number of unique values in dataset per feature"
   ],
   "metadata": {
    "collapsed": false,
    "pycharm": {
     "name": "#%% md\n"
    }
   }
  },
  {
   "cell_type": "code",
   "execution_count": 297,
   "outputs": [
    {
     "name": "stdout",
     "text": [
      "Number of unique artists 38\n",
      "Number of unique genre 21\n"
     ],
     "output_type": "stream"
    }
   ],
   "source": [
    "print('Number of unique artists', df['Artist.Name'].nunique())\n",
    "print('Number of unique genre', df['Genre'].nunique())"
   ],
   "metadata": {
    "collapsed": false,
    "pycharm": {
     "name": "#%%\n",
     "is_executing": false
    }
   }
  },
  {
   "cell_type": "code",
   "source": [
    "df['GeneralGenre']=[1 if each =='atl hip hop'\n",
    "                      else 2 if each =='canadian hip hop'\n",
    "                      else 3 if each == 'trap music'\n",
    "                      else 4 if each == 'australian pop'\n",
    "                      else 5 if each == 'boy band'\n",
    "                      else 6 if each == 'canadian pop'\n",
    "                      else 7 if each == 'dance pop'\n",
    "                      else 8 if each == 'panamanian pop'\n",
    "                      else 9 if each == 'pop'\n",
    "                      else 10 if each == 'pop house'\n",
    "                      else 11 if each == 'big room'\n",
    "                      else 12 if each == 'brostep'\n",
    "                      else 13 if each == 'edm'\n",
    "                      else 14 if each == 'electropop'\n",
    "                      else 15 if each == 'country rap'\n",
    "                      else 16 if each == 'dfw rap'\n",
    "                      else 17 if each == 'hip hop'\n",
    "                      else 18 if each == 'latin'\n",
    "                      else 19 if each == 'r&n en espanol'\n",
    "                      else 20 for each in df['Genre']]"
   ],
   "metadata": {
    "collapsed": false,
    "pycharm": {
     "name": "#%% \n",
     "is_executing": false
    }
   },
   "execution_count": 298,
   "outputs": []
  },
  {
   "cell_type": "code",
   "execution_count": 299,
   "outputs": [
    {
     "name": "stdout",
     "text": [
      "train shape (35, 8) (35,)\n",
      "test shape (15, 8) (15,)\n"
     ],
     "output_type": "stream"
    }
   ],
   "source": [
    "# Split the data into a training set and a testing set. Set: test_size=0.3, random_state=1\n",
    "# 'Energy', 'Danceability', 'Loudness..dB..', 'Length.', 'Acousticness..', 'Speechiness.', 'Popularity'\n",
    "predictors = ['GeneralGenre', 'Beats.Per.Minute', 'Energy', 'Danceability', 'Loudness..dB..', 'Length.', 'Acousticness..', 'Speechiness.']\n",
    "x = df[predictors]\n",
    "y = df['Popularity']\n",
    "\n",
    "from sklearn.model_selection import train_test_split\n",
    "\n",
    "X_train, X_test, y_train, y_test = train_test_split(x, y, test_size=0.3, random_state=1)\n",
    "\n",
    "print (\"train shape\", X_train.shape, y_train.shape)\n",
    "print (\"test shape\", X_test.shape, y_test.shape)"
   ],
   "metadata": {
    "collapsed": false,
    "pycharm": {
     "name": "#%%\n",
     "is_executing": false
    }
   }
  },
  {
   "cell_type": "code",
   "execution_count": 300,
   "outputs": [
    {
     "name": "stdout",
     "text": [
      "train accuracy = 0.26558728711050095\n",
      "test accuracy = -0.3445401881439565\n",
      "[82.83704296 86.69536143 85.73069199 85.39976075 94.10549507 87.92726876\n",
      " 85.87657994 93.16613542 88.6149076  88.47994471 94.67029653 84.91675225\n",
      " 90.45405982 90.13470553 93.44309806]\n",
      "28    89\n",
      "36    89\n",
      "41    88\n",
      "39    80\n",
      "3     85\n",
      "4     86\n",
      "49    88\n",
      "30    89\n",
      "47    88\n",
      "32    89\n",
      "33    89\n",
      "40    78\n",
      "22    91\n",
      "37    91\n",
      "20    91\n",
      "Name: Popularity, dtype: int64\n",
      "18.249892153740635\n"
     ],
     "output_type": "stream"
    }
   ],
   "source": [
    "# import LogisticRegression from: http://scikit-learn.org/stable/modules/generated/sklearn.linear_model.LogisticRegression.html\n",
    "# your code here\n",
    "from sklearn.linear_model import LinearRegression\n",
    "# .fit for training\n",
    "clf = LinearRegression().fit(X_train, y_train)\n",
    "# your code here\n",
    "train_score = clf.score(X_train, y_train)\n",
    "test_score = clf.score(X_test, y_test)\n",
    "print ('train accuracy =', train_score)\n",
    "print ('test accuracy =', test_score)\n",
    "\n",
    "y_pred = clf.predict(X_test)\n",
    "print(y_pred)\n",
    "print(y_test)\n",
    "\n",
    "from sklearn.metrics import mean_squared_error\n",
    "mse = mean_squared_error(y_test, y_pred)\n",
    "print(mse)"
   ],
   "metadata": {
    "collapsed": false,
    "pycharm": {
     "name": "#%%\n",
     "is_executing": false
    }
   }
  },
  {
   "cell_type": "code",
   "execution_count": 301,
   "outputs": [],
   "source": [
    "#  Let's print the model's parameters\n",
    "\n",
    "# coeff = pd.DataFrame()\n",
    "# coeff['Feature'] = X_train.columns\n",
    "# coeff['Coefficient Estimate'] = pd.Series(clf.coef_[0])\n",
    "# coeff.loc[len(coeff)]=['Intercept',clf.intercept_[0]]\n",
    "# print (coeff)"
   ],
   "metadata": {
    "collapsed": false,
    "pycharm": {
     "name": "#%%\n",
     "is_executing": false
    }
   }
  },
  {
   "cell_type": "markdown",
   "source": [
    "We now need to predict class labels for the test set. We will also generate the class probabilities"
   ],
   "metadata": {
    "collapsed": false
   }
  },
  {
   "cell_type": "code",
   "execution_count": 302,
   "outputs": [
    {
     "name": "stdout",
     "text": [
      "    Actual  Predicted\n",
      "28      89  82.837043\n",
      "36      89  86.695361\n",
      "41      88  85.730692\n",
      "39      80  85.399761\n",
      "3       85  94.105495\n",
      "4       86  87.927269\n",
      "49      88  85.876580\n",
      "30      89  93.166135\n",
      "47      88  88.614908\n",
      "32      89  88.479945\n",
      "33      89  94.670297\n",
      "40      78  84.916752\n",
      "22      91  90.454060\n",
      "37      91  90.134706\n",
      "20      91  93.443098\n"
     ],
     "output_type": "stream"
    }
   ],
   "source": [
    "# predict class labels for the test set\n",
    "# your code here\n",
    "# to see if it is one or zero\n",
    "y_pred = clf.predict(X_test)\n",
    "df_output = pd.DataFrame({'Actual': y_test, 'Predicted': y_pred})\n",
    "print (df_output)"
   ],
   "metadata": {
    "collapsed": false,
    "pycharm": {
     "name": "#%%\n",
     "is_executing": false
    }
   }
  },
  {
   "cell_type": "code",
   "execution_count": 303,
   "outputs": [],
   "source": [
    "# generate class probabilities : http://scikit-learn.org/stable/modules/generated/sklearn.linear_model.LogisticRegression.html\n",
    "# your code here\n",
    "# y_probs = clf.predict_proba(X_test)\n",
    "# 2 columns, first prediction to not survice and the second one is to survive\n",
    "# print (y_probs)"
   ],
   "metadata": {
    "collapsed": false,
    "pycharm": {
     "name": "#%%\n",
     "is_executing": false
    }
   }
  },
  {
   "cell_type": "code",
   "execution_count": 304,
   "outputs": [
    {
     "name": "stdout",
     "text": [
      "train accuracy = 0.26557770732526953\n",
      "test accuracy = -0.3360311321317777\n",
      "[82.85054024 86.71775696 85.75615155 85.40901386 94.06557839 87.93682183\n",
      " 85.89443853 93.1341303  88.62372947 88.49475794 94.63788233 84.92188103\n",
      " 90.45631516 90.11857984 93.41325371]\n"
     ],
     "output_type": "stream"
    }
   ],
   "source": [
    "from sklearn.linear_model import Ridge\n",
    "clfRidge = Ridge(alpha=1.0)\n",
    "clfRidge.fit(X_train, y_train)\n",
    "\n",
    "train_score1 = clfRidge.score(X_train, y_train)\n",
    "test_score1 = clfRidge.score(X_test, y_test)\n",
    "print ('train accuracy =', train_score1)\n",
    "print ('test accuracy =', test_score1)\n",
    "\n",
    "y_pred1 = clfRidge.predict(X_test)\n",
    "print(y_pred1)"
   ],
   "metadata": {
    "collapsed": false,
    "pycharm": {
     "name": "#%%\n",
     "is_executing": false
    }
   }
  },
  {
   "cell_type": "code",
   "execution_count": 305,
   "outputs": [
    {
     "name": "stdout",
     "text": [
      "    Actual  Predicted\n",
      "28      89         79\n",
      "36      89         79\n",
      "41      88         79\n",
      "39      80         79\n",
      "3       85         90\n",
      "4       86         82\n",
      "49      88         82\n",
      "30      89         88\n",
      "47      88         87\n",
      "32      89         83\n",
      "33      89         88\n",
      "40      78         82\n",
      "22      91         87\n",
      "37      91         87\n",
      "20      91         87\n"
     ],
     "output_type": "stream"
    },
    {
     "name": "stderr",
     "text": [
      "c:\\users\\harold\\appdata\\local\\programs\\python\\python37-32\\lib\\site-packages\\sklearn\\preprocessing\\data.py:645: DataConversionWarning: Data with input dtype int64 were all converted to float64 by StandardScaler.\n",
      "  return self.partial_fit(X, y)\n",
      "c:\\users\\harold\\appdata\\local\\programs\\python\\python37-32\\lib\\site-packages\\ipykernel_launcher.py:4: DataConversionWarning: Data with input dtype int64 were all converted to float64 by StandardScaler.\n",
      "  after removing the cwd from sys.path.\n",
      "c:\\users\\harold\\appdata\\local\\programs\\python\\python37-32\\lib\\site-packages\\ipykernel_launcher.py:5: DataConversionWarning: Data with input dtype int64 were all converted to float64 by StandardScaler.\n",
      "  \"\"\"\n"
     ],
     "output_type": "stream"
    }
   ],
   "source": [
    "from sklearn.preprocessing import StandardScaler\n",
    "sc = StandardScaler()\n",
    "sc.fit(X_train)\n",
    "X_train = sc.transform(X_train)\n",
    "X_test = sc.transform(X_test)\n",
    "\n",
    "from sklearn.neighbors import KNeighborsClassifier\n",
    "knn = KNeighborsClassifier(n_neighbors=5)\n",
    "knn.fit(X_train, y_train)\n",
    "prediction = knn.predict(X_test)\n",
    "df_output = pd.DataFrame({'Actual': y_test, 'Predicted': prediction})\n",
    "print(df_output)"
   ],
   "metadata": {
    "collapsed": false,
    "pycharm": {
     "name": "#%%\n",
     "is_executing": false
    }
   }
  }
 ],
 "metadata": {
  "kernelspec": {
   "display_name": "Python 3",
   "language": "python",
   "name": "python3"
  },
  "language_info": {
   "codemirror_mode": {
    "name": "ipython",
    "version": 2
   },
   "file_extension": ".py",
   "mimetype": "text/x-python",
   "name": "python",
   "nbconvert_exporter": "python",
   "pygments_lexer": "ipython2",
   "version": "2.7.6"
  },
  "pycharm": {
   "stem_cell": {
    "cell_type": "raw",
    "source": [],
    "metadata": {
     "collapsed": false
    }
   }
  }
 },
 "nbformat": 4,
 "nbformat_minor": 0
}