{
 "cells": [
  {
   "cell_type": "code",
   "execution_count": null,
   "metadata": {
    "collapsed": true,
    "pycharm": {
     "is_executing": true
    }
   },
   "outputs": [],
   "source": [
    "import numpy as np\n",
    "import pandas as pd\n",
    "import matplotlib.pyplot as plt\n",
    "\n",
    "\n",
    "class ANN:\n",
    "\n",
    "    def __init__(self, file_path, v_neuron, w_neuron):\n",
    "        self.data = pd.read_csv(file_path, header = None, sep=\" \")\n",
    "\n",
    "        self.v_neuron = v_neuron\n",
    "        self.w_neuron = w_neuron\n",
    "\n",
    "        self.matrix_y = self.y_matrix(self.data[2])\n",
    "\n",
    "        self.matrix_x = self.input_matrix_x()\n",
    "        self.matrix_x_extended = self.x_1_matrix()\n",
    "\n",
    "        self.matrix_v = self.v_matrix()\n",
    "        self.matrix_x_extended_2 = self.x_2_matrix()\n",
    "\n",
    "        self.matrix_f = self.f_matrix()\n",
    "        self.matrix_f_extended = self.f_1_matrix()\n",
    "\n",
    "        self.matrix_w = self.w_matrix()\n",
    "        self.matrix_f_extended_2 = self.f_2_matrix()\n",
    "\n",
    "        self.matrix_g = self.g_matrix()\n",
    "\n",
    "        self.error_history = []"
   ]
  },
  {
   "cell_type": "code",
   "execution_count": null,
   "outputs": [],
   "source": [
    "class ANN(ANN):\n",
    "    def y_matrix(self, y_data):\n",
    "        matrix_y_init = np.zeros((len(self.data), 3))\n",
    "        for i in range(len(self.data)):\n",
    "            if y_data[i] == 0.0:\n",
    "                matrix_y_init[i][0] = 1\n",
    "            elif y_data[i] == 1.0:\n",
    "                matrix_y_init[i][1] = 1\n",
    "            elif y_data[i] == 2.0:\n",
    "                matrix_y_init[i][2] = 1\n",
    "        return matrix_y_init\n",
    "\n",
    "    def input_matrix_x(self):\n",
    "        return np.array([self.data[0], self.data[1]]).transpose()\n",
    "\n",
    "    def x_1_matrix(self):\n",
    "        ones = np.ones(((np.size(self.matrix_x, 0)), 1))\n",
    "        return np.append(ones, self.matrix_x, axis=1)\n",
    "\n",
    "    def v_matrix(self):\n",
    "        return np.random.rand(np.size(self.matrix_x_extended, 1), self.v_neuron)\n",
    "\n",
    "    def x_2_matrix(self):\n",
    "        return self.matrix_x_extended.dot(self.matrix_v)\n",
    "\n",
    "    def f_matrix(self):\n",
    "        return 1 / (1 + np.exp(-self.matrix_x_extended_2))\n",
    "\n",
    "    def f_1_matrix(self):\n",
    "        ones = np.ones((np.size(self.matrix_f, 0), 1))\n",
    "        return np.append(ones, self.matrix_f, axis=1)\n",
    "\n",
    "    def w_matrix(self):\n",
    "        return np.random.rand(self.v_neuron+1, self.w_neuron)\n",
    "\n",
    "    def f_2_matrix(self):\n",
    "        return self.matrix_f_extended.dot(self.matrix_w)\n",
    "\n",
    "    def g_matrix(self):\n",
    "        return 1 / (1 + np.exp(-self.matrix_f_extended_2))\n",
    "\n",
    "    def sum_squared_errors_calculation(self):\n",
    "        squares = (self.matrix_g - self.matrix_y) ** 2\n",
    "        return np.sum(squares) / 2\n",
    "\n",
    "    def w_correction(self, alpha_w):\n",
    "        w_matrix_new = np.zeros((np.size(self.matrix_w, 0), np.size(self.matrix_w, 1)))\n",
    "        # w of size (k+1)xJ\n",
    "        for k in range(np.size(self.matrix_w, 0)):\n",
    "            for j in range(np.size(self.matrix_w, 1)):\n",
    "                w = self.matrix_w[k][j]\n",
    "                err = 0\n",
    "                for i in range(np.size(self.matrix_g, 1)):\n",
    "                    g = self.matrix_g[i][j]\n",
    "                    y = self.matrix_y[i][j]\n",
    "                    f_ext = self.matrix_f_extended[i][k]\n",
    "\n",
    "                    err += (g - y) * g * (1 - g) * f_ext\n",
    "                w_matrix_new[k][j] = w - (alpha_w * err)\n",
    "        return w_matrix_new"
   ],
   "metadata": {
    "collapsed": false,
    "pycharm": {
     "name": "#%%\n",
     "is_executing": true
    }
   }
  },
  {
   "cell_type": "code",
   "execution_count": null,
   "outputs": [],
   "source": [
    "class ANN(ANN):\n",
    "    def v_correction(self, alpha_v):\n",
    "        v_matrix_new = np.zeros((np.size(self.matrix_v, 0), np.size(self.matrix_v, 1)))\n",
    "        for n in range(np.size(self.matrix_x_extended, 1)):\n",
    "            for k in range(np.size(self.matrix_v, 1)):\n",
    "                v = self.matrix_v[n][k]\n",
    "                err = 0\n",
    "                for i in range(np.size(self.matrix_g, 0)):\n",
    "                    f = self.matrix_f[i][k]\n",
    "                    x_ext = self.matrix_x_extended[i][n]\n",
    "\n",
    "                    for j in range(np.size(self.matrix_g, 1)):\n",
    "                        g = self.matrix_g[i][j]\n",
    "                        y = self.matrix_y[i][j]\n",
    "                        w = self.matrix_w[k][j]\n",
    "                        err += (g - y) * g * (-g) * w * f * (1 - f) * x_ext\n",
    "                v_matrix_new[n][k] = v - (alpha_v * err)\n",
    "        return v_matrix_new\n",
    "\n",
    "    def FFNN(self, alpha_v=0.005, alpha_w=0.005, iter_max=5000):\n",
    "        i = 0\n",
    "        while i <= iter_max:\n",
    "            # first Backward propagation \n",
    "            # updating matrix_w first as matrix_v depends on \n",
    "            self.matrix_w = self.w_correction(alpha_w)\n",
    "            self.matrix_v = self.v_correction(alpha_v)\n",
    "\n",
    "            self.matrix_x_extended_2 = self.x_2_matrix()\n",
    "\n",
    "            self.matrix_f = self.f_matrix()\n",
    "            self.matrix_f_extended = self.f_1_matrix()\n",
    "\n",
    "            self.matrix_w = self.w_correction(alpha_w)\n",
    "            self.matrix_f_extended_2 = self.f_2_matrix()\n",
    "\n",
    "            self.matrix_g = self.g_matrix()\n",
    "\n",
    "            err = self.sum_squared_errors_calculation()\n",
    "            self.error_history.append(err)\n",
    "\n",
    "            i += 1\n",
    "        return self.g_matrix()\n",
    "\n",
    "    def show_error_log(self):\n",
    "        plt.plot(self.error_history)\n",
    "        plt.ylabel(\"Error\")\n",
    "        plt.xlabel(\"Itteration\")\n",
    "        plt.show()\n",
    "\n",
    "\n",
    "artificial_neural_network = ANN(\"data_ffnn_3classes.txt\", 3, 3)\n",
    "\n",
    "artificial_neural_network.FFNN()\n",
    "artificial_neural_network.show_error_log()\n"
   ],
   "metadata": {
    "collapsed": false,
    "pycharm": {
     "name": "#%%\n",
     "is_executing": true
    }
   }
  }
 ],
 "metadata": {
  "kernelspec": {
   "display_name": "Python 3",
   "language": "python",
   "name": "python3"
  },
  "language_info": {
   "codemirror_mode": {
    "name": "ipython",
    "version": 2
   },
   "file_extension": ".py",
   "mimetype": "text/x-python",
   "name": "python",
   "nbconvert_exporter": "python",
   "pygments_lexer": "ipython2",
   "version": "2.7.6"
  },
  "pycharm": {
   "stem_cell": {
    "cell_type": "raw",
    "source": [],
    "metadata": {
     "collapsed": false
    }
   }
  }
 },
 "nbformat": 4,
 "nbformat_minor": 0
}