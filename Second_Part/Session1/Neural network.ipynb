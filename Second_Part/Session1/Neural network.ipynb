{
 "cells": [
  {
   "cell_type": "markdown",
   "source": [
    "# Lab / HomeWork\n",
    "## [Artificial Neural Network (ANN)]\n",
    "## Feedfroward Neural Network (FFNN)"
   ],
   "metadata": {
    "collapsed": false
   }
  },
  {
   "cell_type": "code",
   "execution_count": 40,
   "outputs": [],
   "source": [
    "import numpy as np\n",
    "import pandas as pd"
   ],
   "metadata": {
    "collapsed": false,
    "pycharm": {
     "name": "#%%\n",
     "is_executing": false
    }
   }
  },
  {
   "cell_type": "markdown",
   "source": [
    "### Data extraction and choice amount of neurons\n"
   ],
   "metadata": {
    "collapsed": false
   }
  },
  {
   "cell_type": "code",
   "execution_count": 41,
   "outputs": [],
   "source": [
    "data = pd.read_csv(\"data_ffnn_3classes.txt\",header = None,sep=\" \")\n",
    "\n",
    "V_neuron= 10\n",
    "W_neuron = 3"
   ],
   "metadata": {
    "collapsed": false,
    "pycharm": {
     "name": "#%%\n",
     "is_executing": false
    }
   }
  },
  {
   "cell_type": "markdown",
   "source": [
    "### Generation matrix Y\n"
   ],
   "metadata": {
    "collapsed": false
   }
  },
  {
   "cell_type": "code",
   "execution_count": 42,
   "outputs": [
    {
     "name": "stdout",
     "text": [
      "dimension matrix y: (71, 3)\n"
     ],
     "output_type": "stream"
    }
   ],
   "source": [
    "data_y = data[2]\n",
    "length_y = len(data_y)\n",
    "matrix_y = np.zeros((length_y,3))\n",
    "\n",
    "def matrixY(y, length):\n",
    "    for i in range(length):\n",
    "        if y[i] == 0.0:\n",
    "            matrix_y[i][0] = 1\n",
    "        elif y[i] == 1.0:\n",
    "            matrix_y[i][1] = 1\n",
    "        elif y[i] == 2.0:\n",
    "            matrix_y[i][2] = 1\n",
    "            \n",
    "matrixY(data_y, length_y)\n",
    "print(\"dimension matrix y: \" + str(matrix_y.shape))"
   ],
   "metadata": {
    "collapsed": false,
    "pycharm": {
     "name": "#%%\n",
     "is_executing": false
    }
   }
  },
  {
   "cell_type": "markdown",
   "source": [
    "## Forward Propagation\n",
    "\n",
    "### Input data matrix []<sub> I x N\n",
    "I = Number of elements\n",
    "\n",
    "N = Number of features"
   ],
   "metadata": {
    "collapsed": false,
    "pycharm": {
     "name": "#%% md\n"
    }
   }
  },
  {
   "cell_type": "code",
   "execution_count": 43,
   "outputs": [
    {
     "name": "stdout",
     "text": [
      "dimension matrix_x: (71, 2)\n"
     ],
     "output_type": "stream"
    }
   ],
   "source": [
    "def input_matrix_x():\n",
    "    return np.array([data[0], data[1]])\n",
    "    \n",
    "matrix_x = input_matrix_x().transpose()\n",
    "print(\"dimension matrix_x: \" + str(matrix_x.shape))"
   ],
   "metadata": {
    "collapsed": false,
    "pycharm": {
     "name": "#%%\n",
     "is_executing": false
    }
   }
  },
  {
   "cell_type": "markdown",
   "source": [
    "### Extended input data matrix []<sub> I x (N+1)"
   ],
   "metadata": {
    "collapsed": false,
    "pycharm": {
     "name": "#%% md\n"
    }
   }
  },
  {
   "cell_type": "code",
   "execution_count": 44,
   "outputs": [
    {
     "name": "stdout",
     "text": [
      "dimension matrix_x_extended: (71, 3)\n"
     ],
     "output_type": "stream"
    }
   ],
   "source": [
    "def x_1_matrix(x_mat):\n",
    "    ones = np.ones(((np.size(x_mat, 0)),1))\n",
    "    return np.append(ones, x_mat, axis=1)\n",
    "\n",
    "matrix_x_extended = x_1_matrix(matrix_x)\n",
    "print(\"dimension matrix_x_extended: \" + str(matrix_x_extended.shape))"
   ],
   "metadata": {
    "collapsed": false,
    "pycharm": {
     "name": "#%%\n",
     "is_executing": false
    }
   }
  },
  {
   "cell_type": "markdown",
   "source": [
    "### Extended input data matrix 2 []<sub> I x K\n",
    "\n",
    "K = number of hidden neurons\n",
    "\n",
    "v_matrix = []<sub> (N+1) x K"
   ],
   "metadata": {
    "collapsed": false
   }
  },
  {
   "cell_type": "code",
   "execution_count": 45,
   "outputs": [
    {
     "name": "stdout",
     "text": [
      "dimension matrix_x_extended_2: (71, 10)\n"
     ],
     "output_type": "stream"
    }
   ],
   "source": [
    "def x_2_matrix(x_mat_ext, v_neuron):\n",
    "    return x_mat_ext.dot(v_neuron)\n",
    "\n",
    "v_neutron_matrix = np.random.rand(np.size(matrix_x_extended, 1), V_neuron)\n",
    "matrix_x_extended_2 = x_2_matrix(matrix_x_extended, v_neutron_matrix)\n",
    "print(\"dimension matrix_x_extended_2: \" + str(matrix_x_extended_2.shape))"
   ],
   "metadata": {
    "collapsed": false,
    "pycharm": {
     "name": "#%%\n",
     "is_executing": false
    }
   }
  },
  {
   "cell_type": "markdown",
   "source": [
    "### Hidden F matrix []<sub> I x K\n"
   ],
   "metadata": {
    "collapsed": false,
    "pycharm": {
     "name": "#%% md\n"
    }
   }
  },
  {
   "cell_type": "code",
   "execution_count": 46,
   "outputs": [
    {
     "name": "stdout",
     "text": [
      "dimension matrix_f: (71, 10)\n"
     ],
     "output_type": "stream"
    }
   ],
   "source": [
    "def f_matrix(x_mat_ext_2):\n",
    "    return 1/(1 + np.exp(-x_mat_ext_2))\n",
    "    \n",
    "matrix_f = f_matrix(matrix_x_extended_2)\n",
    "print(\"dimension matrix_f: \" + str(matrix_f.shape))"
   ],
   "metadata": {
    "collapsed": false,
    "pycharm": {
     "name": "#%%\n",
     "is_executing": false
    }
   }
  },
  {
   "cell_type": "markdown",
   "source": [
    "### Extended hidden f matrix []<sub> I x (K+1)"
   ],
   "metadata": {
    "collapsed": false
   }
  },
  {
   "cell_type": "code",
   "execution_count": 47,
   "outputs": [
    {
     "name": "stdout",
     "text": [
      "dimension matrix_f_extended: (71, 11)\n"
     ],
     "output_type": "stream"
    }
   ],
   "source": [
    "def f_1_matrix(f_mat):\n",
    "    ones = np.ones((np.size(f_mat,0),1))\n",
    "    return np.append(ones, f_mat,axis=1)\n",
    "\n",
    "matrix_f_extended = f_1_matrix(matrix_f)\n",
    "print(\"dimension matrix_f_extended: \" + str(matrix_f_extended.shape))"
   ],
   "metadata": {
    "collapsed": false,
    "pycharm": {
     "name": "#%%\n",
     "is_executing": false
    }
   }
  },
  {
   "cell_type": "markdown",
   "source": [
    "### Extended hidden f matrix 2 []<sub> I x J\n",
    "\n",
    "J = output variable dimension\n",
    "\n",
    "w_matrix = []<sub> (K+1) x J"
   ],
   "metadata": {
    "collapsed": false
   }
  },
  {
   "cell_type": "code",
   "execution_count": 48,
   "outputs": [
    {
     "name": "stdout",
     "text": [
      "dimension matrix_f_extended_2: (71, 3)\n"
     ],
     "output_type": "stream"
    }
   ],
   "source": [
    "def f_2_matrix(f_mat_1, w_neuron):\n",
    "    return f_mat_1.dot(w_neuron)\n",
    "\n",
    "w_neutron_matrix = np.random.rand(V_neuron+1, W_neuron)\n",
    "matrix_f_extended_2 = f_2_matrix(matrix_f_extended, w_neutron_matrix)\n",
    "print(\"dimension matrix_f_extended_2: \" + str(matrix_f_extended_2.shape))"
   ],
   "metadata": {
    "collapsed": false,
    "pycharm": {
     "name": "#%%\n",
     "is_executing": false
    }
   }
  },
  {
   "cell_type": "markdown",
   "source": [
    "### G matrix []<sub> I x J\n"
   ],
   "metadata": {
    "collapsed": false,
    "pycharm": {
     "name": "#%% md\n"
    }
   }
  },
  {
   "cell_type": "code",
   "execution_count": 49,
   "outputs": [
    {
     "name": "stdout",
     "text": [
      "dimension matrix_g: (71, 3)\n"
     ],
     "output_type": "stream"
    }
   ],
   "source": [
    "def g_matrix(f_mat_ext_2):\n",
    "    return 1/(1 + np.exp(-f_mat_ext_2))\n",
    "\n",
    "matrix_g = g_matrix(matrix_f_extended_2)\n",
    "print(\"dimension matrix_g: \" + str(matrix_g.shape))"
   ],
   "metadata": {
    "collapsed": false,
    "pycharm": {
     "name": "#%%\n",
     "is_executing": false
    }
   }
  },
  {
   "cell_type": "markdown",
   "source": [
    "### Sum of squared errors (SSE)"
   ],
   "metadata": {
    "collapsed": false,
    "pycharm": {
     "name": "#%% md\n"
    }
   }
  },
  {
   "cell_type": "code",
   "execution_count": 50,
   "outputs": [
    {
     "name": "stdout",
     "text": [
      "sum_squared_errors: 70.20098043333145\n"
     ],
     "output_type": "stream"
    }
   ],
   "source": [
    "def sum_squared_errors_calculation(g_mat, y_mat):\n",
    "    squares = (g_mat - y_mat ) ** 2\n",
    "    return np.sum(squares)/2\n",
    "\n",
    "sum_squared_errors = sum_squared_errors_calculation(matrix_g, matrix_y)\n",
    "print(\"sum_squared_errors: \" + str(sum_squared_errors))"
   ],
   "metadata": {
    "collapsed": false,
    "pycharm": {
     "name": "#%%\n",
     "is_executing": false
    }
   }
  },
  {
   "cell_type": "markdown",
   "source": [
    "## Backwards propagation\n",
    "\n",
    "### Correction of w matrix"
   ],
   "metadata": {
    "collapsed": false,
    "pycharm": {
     "name": "#%% md\n"
    }
   }
  },
  {
   "cell_type": "code",
   "execution_count": 51,
   "outputs": [
    {
     "name": "stdout",
     "text": [
      "[[0.32901861 0.60830043 0.10200596]\n",
      " [0.40114545 0.8878664  0.47741999]\n",
      " [0.31398826 0.51802625 0.66812421]\n",
      " [0.37502873 0.30963634 0.97267913]\n",
      " [0.27299515 0.9308722  0.26894092]\n",
      " [0.72518086 0.51530811 0.93922216]\n",
      " [0.55855741 0.81890513 0.36509121]\n",
      " [0.82370815 0.18382282 0.01176581]\n",
      " [0.10144549 0.04586955 0.54190455]\n",
      " [0.26881015 0.74885849 0.55412551]\n",
      " [0.         0.         0.        ]]\n"
     ],
     "output_type": "stream"
    }
   ],
   "source": [
    "def w_correction(G,Y,F,W,alpha):\n",
    "    w_matrix_new = np.zeros((np.size(W,0),np.size(W,1)))\n",
    "    # w of size (k+1)xJ\n",
    "    for k in range(np.size(W,0) - 1):\n",
    "        for j in range(np.size(W,1)):\n",
    "            w = W[k][j]\n",
    "            err = 0\n",
    "            for i in range(np.size(G,1)):\n",
    "                g = G[i][j]\n",
    "                y = Y[i][j]\n",
    "                f = F[i][k]\n",
    "                \n",
    "                err += (g-y) * g * (1-g) * f\n",
    "            w_matrix_new[k][j] = w - (alpha*err)\n",
    "    return w_matrix_new\n",
    "\n",
    "new_w_mat = w_correction(matrix_g, matrix_y, matrix_f_extended, w_neutron_matrix, 0.5)\n",
    "print(new_w_mat)"
   ],
   "metadata": {
    "collapsed": false,
    "pycharm": {
     "name": "#%%\n",
     "is_executing": false
    }
   }
  },
  {
   "cell_type": "markdown",
   "source": [
    "### Correction of v matrix "
   ],
   "metadata": {
    "collapsed": false
   }
  },
  {
   "cell_type": "code",
   "execution_count": 52,
   "outputs": [
    {
     "name": "stdout",
     "text": [
      "[[ 1.04382064  7.02716209  1.32512208  0.74984572  0.82711475  4.22222422\n",
      "   0.84640014  0.80180081  0.59809597  0.95051231]\n",
      " [ 2.19474305 19.6683886   2.70776444  1.39939878  2.17455699  7.89216366\n",
      "   1.88791685  1.79240947  1.55248243  1.80974262]\n",
      " [ 2.13471011 16.23425577  3.23914836  1.65509433  2.37198923  9.28701777\n",
      "   2.00010726  1.5748997   1.80649572  2.13189465]]\n"
     ],
     "output_type": "stream"
    }
   ],
   "source": [
    "def v_correction(g_mat, y_mat, f_mat, w_mat, x_mat_ext, v_mat, alpha):\n",
    "    v_matrix_new = np.zeros((np.size(v_mat, 0),np.size(v_mat, 1)))\n",
    "    for n in range(np.size(x_mat_ext, 1)):\n",
    "        for k in range(np.size(v_mat, 1)):\n",
    "            v = v_mat[n][k]\n",
    "            err = 0\n",
    "            for i in range(np.size(g_mat, 0)):\n",
    "                f = f_mat[i][k]\n",
    "                x_ext = x_mat_ext[i][n]\n",
    "                \n",
    "                for j in range(np.size(g_mat, 1)):\n",
    "                    g = g_mat[i][j]\n",
    "                    y = y_mat[i][j]\n",
    "                    w = w_mat[k][j]\n",
    "                    err += (g-y) * g * (-g) * w * f * (1-f) * x_ext\n",
    "            v_matrix_new[n][k] = v - (alpha*err)\n",
    "    return v_matrix_new\n",
    "\n",
    "new_v_mat = v_correction(matrix_g, matrix_y, matrix_f, w_neutron_matrix, matrix_x_extended, v_neutron_matrix, 0.5)\n",
    "print(new_v_mat)\n",
    "        "
   ],
   "metadata": {
    "collapsed": false,
    "pycharm": {
     "name": "#%%\n",
     "is_executing": false
    }
   }
  }
 ],
 "metadata": {
  "kernelspec": {
   "display_name": "Python 3",
   "language": "python",
   "name": "python3"
  },
  "language_info": {
   "codemirror_mode": {
    "name": "ipython",
    "version": 2
   },
   "file_extension": ".py",
   "mimetype": "text/x-python",
   "name": "python",
   "nbconvert_exporter": "python",
   "pygments_lexer": "ipython2",
   "version": "2.7.6"
  },
  "pycharm": {
   "stem_cell": {
    "cell_type": "raw",
    "source": [],
    "metadata": {
     "collapsed": false
    }
   }
  }
 },
 "nbformat": 4,
 "nbformat_minor": 0
}