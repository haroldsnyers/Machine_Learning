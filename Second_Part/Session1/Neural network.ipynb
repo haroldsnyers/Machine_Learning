{
 "cells": [
  {
   "cell_type": "markdown",
   "source": [
    "# Lab / HomeWork\n",
    "## [Artificial Neural Network (ANN)]\n",
    "## Feedforward Neural Network (FFNN)"
   ],
   "metadata": {
    "collapsed": false
   }
  },
  {
   "cell_type": "code",
   "execution_count": 68,
   "outputs": [],
   "source": [
    "import numpy as np\n",
    "import pandas as pd\n",
    "import matplotlib.pyplot as plt "
   ],
   "metadata": {
    "collapsed": false,
    "pycharm": {
     "name": "#%%\n",
     "is_executing": false
    }
   }
  },
  {
   "cell_type": "markdown",
   "source": [
    "### Data extraction and choice amount of neurons\n"
   ],
   "metadata": {
    "collapsed": false
   }
  },
  {
   "cell_type": "code",
   "execution_count": 69,
   "outputs": [],
   "source": [
    "data = pd.read_csv(\"data_ffnn_3classes.txt\",header = None,sep=\" \")\n",
    "\n",
    "V_neuron= 3\n",
    "W_neuron = 3"
   ],
   "metadata": {
    "collapsed": false,
    "pycharm": {
     "name": "#%%\n",
     "is_executing": false
    }
   }
  },
  {
   "cell_type": "markdown",
   "source": [
    "### Generation matrix Y\n"
   ],
   "metadata": {
    "collapsed": false
   }
  },
  {
   "cell_type": "code",
   "execution_count": 70,
   "outputs": [
    {
     "name": "stdout",
     "text": [
      "dimension matrix y: (71, 3)\n"
     ],
     "output_type": "stream"
    }
   ],
   "source": [
    "data_y = data[2]\n",
    "length_y = len(data_y)\n",
    "matrix_y = np.zeros((length_y,3))\n",
    "\n",
    "def matrixY(y, length):\n",
    "    for i in range(length):\n",
    "        if y[i] == 0.0:\n",
    "            matrix_y[i][0] = 1\n",
    "        elif y[i] == 1.0:\n",
    "            matrix_y[i][1] = 1\n",
    "        elif y[i] == 2.0:\n",
    "            matrix_y[i][2] = 1\n",
    "            \n",
    "matrixY(data_y, length_y)\n",
    "print(\"dimension matrix y: \" + str(matrix_y.shape))"
   ],
   "metadata": {
    "collapsed": false,
    "pycharm": {
     "name": "#%%\n",
     "is_executing": false
    }
   }
  },
  {
   "cell_type": "markdown",
   "source": [
    "## Forward Propagation\n",
    "\n",
    "### Input data matrix []<sub> I x N\n",
    "I = Number of elements\n",
    "\n",
    "N = Number of features"
   ],
   "metadata": {
    "collapsed": false,
    "pycharm": {
     "name": "#%% md\n"
    }
   }
  },
  {
   "cell_type": "code",
   "execution_count": 71,
   "outputs": [
    {
     "name": "stdout",
     "text": [
      "dimension matrix_x: (71, 2)\n"
     ],
     "output_type": "stream"
    }
   ],
   "source": [
    "def input_matrix_x():\n",
    "    return np.array([data[0], data[1]])\n",
    "    \n",
    "matrix_x = input_matrix_x().transpose()\n",
    "print(\"dimension matrix_x: \" + str(matrix_x.shape))"
   ],
   "metadata": {
    "collapsed": false,
    "pycharm": {
     "name": "#%%\n",
     "is_executing": false
    }
   }
  },
  {
   "cell_type": "markdown",
   "source": [
    "### Extended input data matrix []<sub> I x (N+1)"
   ],
   "metadata": {
    "collapsed": false,
    "pycharm": {
     "name": "#%% md\n"
    }
   }
  },
  {
   "cell_type": "code",
   "execution_count": 72,
   "outputs": [
    {
     "name": "stdout",
     "text": [
      "dimension matrix_x_extended: (71, 3)\n"
     ],
     "output_type": "stream"
    }
   ],
   "source": [
    "def x_1_matrix(x_mat):\n",
    "    ones = np.ones(((np.size(x_mat, 0)),1))\n",
    "    return np.append(ones, x_mat, axis=1)\n",
    "\n",
    "matrix_x_extended = x_1_matrix(matrix_x)\n",
    "print(\"dimension matrix_x_extended: \" + str(matrix_x_extended.shape))"
   ],
   "metadata": {
    "collapsed": false,
    "pycharm": {
     "name": "#%%\n",
     "is_executing": false
    }
   }
  },
  {
   "cell_type": "markdown",
   "source": [
    "### Extended input data matrix 2 []<sub> I x K\n",
    "\n",
    "K = number of hidden neurons\n",
    "\n",
    "v_matrix = []<sub> (N+1) x K"
   ],
   "metadata": {
    "collapsed": false
   }
  },
  {
   "cell_type": "code",
   "execution_count": 73,
   "outputs": [
    {
     "name": "stdout",
     "text": [
      "dimension matrix_x_extended_2: (71, 3)\n"
     ],
     "output_type": "stream"
    }
   ],
   "source": [
    "def x_2_matrix(x_mat_ext, v_neuron):\n",
    "    return x_mat_ext.dot(v_neuron)\n",
    "\n",
    "v_neutron_matrix = np.random.rand(np.size(matrix_x_extended, 1), V_neuron)\n",
    "matrix_x_extended_2 = x_2_matrix(matrix_x_extended, v_neutron_matrix)\n",
    "print(\"dimension matrix_x_extended_2: \" + str(matrix_x_extended_2.shape))"
   ],
   "metadata": {
    "collapsed": false,
    "pycharm": {
     "name": "#%%\n",
     "is_executing": false
    }
   }
  },
  {
   "cell_type": "markdown",
   "source": [
    "### Hidden F matrix []<sub> I x K\n"
   ],
   "metadata": {
    "collapsed": false,
    "pycharm": {
     "name": "#%% md\n"
    }
   }
  },
  {
   "cell_type": "code",
   "execution_count": 74,
   "outputs": [
    {
     "name": "stdout",
     "text": [
      "dimension matrix_f: (71, 3)\n"
     ],
     "output_type": "stream"
    }
   ],
   "source": [
    "def f_matrix(x_mat_ext_2):\n",
    "    return 1/(1 + np.exp(-x_mat_ext_2))\n",
    "    \n",
    "matrix_f = f_matrix(matrix_x_extended_2)\n",
    "print(\"dimension matrix_f: \" + str(matrix_f.shape))"
   ],
   "metadata": {
    "collapsed": false,
    "pycharm": {
     "name": "#%%\n",
     "is_executing": false
    }
   }
  },
  {
   "cell_type": "markdown",
   "source": [
    "### Extended hidden f matrix []<sub> I x (K+1)"
   ],
   "metadata": {
    "collapsed": false
   }
  },
  {
   "cell_type": "code",
   "execution_count": 75,
   "outputs": [
    {
     "name": "stdout",
     "text": [
      "dimension matrix_f_extended: (71, 4)\n"
     ],
     "output_type": "stream"
    }
   ],
   "source": [
    "def f_1_matrix(f_mat):\n",
    "    ones = np.ones((np.size(f_mat,0),1))\n",
    "    return np.append(ones, f_mat,axis=1)\n",
    "\n",
    "matrix_f_extended = f_1_matrix(matrix_f)\n",
    "print(\"dimension matrix_f_extended: \" + str(matrix_f_extended.shape))"
   ],
   "metadata": {
    "collapsed": false,
    "pycharm": {
     "name": "#%%\n",
     "is_executing": false
    }
   }
  },
  {
   "cell_type": "markdown",
   "source": [
    "### Extended hidden f matrix 2 []<sub> I x J\n",
    "\n",
    "J = output variable dimension\n",
    "\n",
    "w_matrix = []<sub> (K+1) x J"
   ],
   "metadata": {
    "collapsed": false
   }
  },
  {
   "cell_type": "code",
   "execution_count": 76,
   "outputs": [
    {
     "name": "stdout",
     "text": [
      "dimension matrix_f_extended_2: (71, 3)\n"
     ],
     "output_type": "stream"
    }
   ],
   "source": [
    "def f_2_matrix(f_mat_1, w_neuron):\n",
    "    return f_mat_1.dot(w_neuron)\n",
    "\n",
    "w_neutron_matrix = np.random.rand(V_neuron+1, W_neuron)\n",
    "matrix_f_extended_2 = f_2_matrix(matrix_f_extended, w_neutron_matrix)\n",
    "print(\"dimension matrix_f_extended_2: \" + str(matrix_f_extended_2.shape))"
   ],
   "metadata": {
    "collapsed": false,
    "pycharm": {
     "name": "#%%\n",
     "is_executing": false
    }
   }
  },
  {
   "cell_type": "markdown",
   "source": [
    "### G matrix []<sub> I x J\n"
   ],
   "metadata": {
    "collapsed": false,
    "pycharm": {
     "name": "#%% md\n"
    }
   }
  },
  {
   "cell_type": "code",
   "execution_count": 77,
   "outputs": [
    {
     "name": "stdout",
     "text": [
      "dimension matrix_g: (71, 3)\n"
     ],
     "output_type": "stream"
    }
   ],
   "source": [
    "def g_matrix(f_mat_ext_2):\n",
    "    return 1/(1 + np.exp(-f_mat_ext_2))\n",
    "\n",
    "matrix_g = g_matrix(matrix_f_extended_2)\n",
    "print(\"dimension matrix_g: \" + str(matrix_g.shape))"
   ],
   "metadata": {
    "collapsed": false,
    "pycharm": {
     "name": "#%%\n",
     "is_executing": false
    }
   }
  },
  {
   "cell_type": "markdown",
   "source": [
    "### Sum of squared errors (SSE)"
   ],
   "metadata": {
    "collapsed": false,
    "pycharm": {
     "name": "#%% md\n"
    }
   }
  },
  {
   "cell_type": "code",
   "execution_count": 78,
   "outputs": [
    {
     "name": "stdout",
     "text": [
      "sum_squared_errors: 55.973145561491314\n"
     ],
     "output_type": "stream"
    }
   ],
   "source": [
    "def sum_squared_errors_calculation(g_mat, y_mat):\n",
    "    squares = (g_mat - y_mat ) ** 2\n",
    "    return np.sum(squares)/2\n",
    "\n",
    "sum_squared_errors = sum_squared_errors_calculation(matrix_g, matrix_y)\n",
    "print(\"sum_squared_errors: \" + str(sum_squared_errors))"
   ],
   "metadata": {
    "collapsed": false,
    "pycharm": {
     "name": "#%%\n",
     "is_executing": false
    }
   }
  },
  {
   "cell_type": "markdown",
   "source": [
    "## Backwards propagation\n",
    "\n",
    "### Correction of w matrix"
   ],
   "metadata": {
    "collapsed": false,
    "pycharm": {
     "name": "#%% md\n"
    }
   }
  },
  {
   "cell_type": "code",
   "execution_count": 79,
   "outputs": [
    {
     "name": "stdout",
     "text": [
      "[[0.75091026 0.74391248 0.26026933]\n",
      " [0.67643666 0.42163949 0.33305562]\n",
      " [0.14872279 0.315901   0.88940396]\n",
      " [0.29366112 0.33656013 0.66887536]]\n"
     ],
     "output_type": "stream"
    }
   ],
   "source": [
    "def w_correction(G,Y,F,W,alpha):\n",
    "    w_matrix_new = np.zeros((np.size(W,0),np.size(W,1)))\n",
    "    # w of size (k+1)xJ\n",
    "    for k in range(np.size(W,0)):\n",
    "        for j in range(np.size(W,1)):\n",
    "            w = W[k][j]\n",
    "            err = 0\n",
    "            for i in range(np.size(G,1)):\n",
    "                g = G[i][j]\n",
    "                y = Y[i][j]\n",
    "                f = F[i][k]\n",
    "                \n",
    "                err += (g-y) * g * (1-g) * f\n",
    "            w_matrix_new[k][j] = w - (alpha*err)\n",
    "    return w_matrix_new\n",
    "\n",
    "new_w_mat = w_correction(matrix_g, matrix_y, matrix_f_extended, w_neutron_matrix, 0.5)\n",
    "print(new_w_mat)"
   ],
   "metadata": {
    "collapsed": false,
    "pycharm": {
     "name": "#%%\n",
     "is_executing": false
    }
   }
  },
  {
   "cell_type": "markdown",
   "source": [
    "### Correction of v matrix "
   ],
   "metadata": {
    "collapsed": false
   }
  },
  {
   "cell_type": "code",
   "execution_count": 80,
   "outputs": [
    {
     "name": "stdout",
     "text": [
      "[[2.46732147 1.83834583 2.67321107]\n",
      " [6.17146711 2.82516833 5.20900543]\n",
      " [4.56220617 2.90739841 6.74813422]]\n"
     ],
     "output_type": "stream"
    }
   ],
   "source": [
    "def v_correction(g_mat, y_mat, f_mat, w_mat, x_mat_ext, v_mat, alpha):\n",
    "    v_matrix_new = np.zeros((np.size(v_mat, 0),np.size(v_mat, 1)))\n",
    "    for n in range(np.size(x_mat_ext, 1)):\n",
    "        for k in range(np.size(v_mat, 1)):\n",
    "            v = v_mat[n][k]\n",
    "            err = 0\n",
    "            for i in range(np.size(g_mat, 0)):\n",
    "                f = f_mat[i][k]\n",
    "                x_ext = x_mat_ext[i][n]\n",
    "                \n",
    "                for j in range(np.size(g_mat, 1)):\n",
    "                    g = g_mat[i][j]\n",
    "                    y = y_mat[i][j]\n",
    "                    w = w_mat[k][j]\n",
    "                    err += (g-y) * g * (-g) * w * f * (1-f) * x_ext\n",
    "            v_matrix_new[n][k] = v - (alpha*err)\n",
    "    return v_matrix_new\n",
    "\n",
    "new_v_mat = v_correction(matrix_g, matrix_y, matrix_f, w_neutron_matrix, matrix_x_extended, v_neutron_matrix, 0.5)\n",
    "print(new_v_mat)\n",
    "        "
   ],
   "metadata": {
    "collapsed": false,
    "pycharm": {
     "name": "#%%\n",
     "is_executing": false
    }
   }
  },
  {
   "cell_type": "markdown",
   "source": [
    "## Learning Loop"
   ],
   "metadata": {
    "collapsed": false,
    "pycharm": {
     "name": "#%% md\n"
    }
   }
  },
  {
   "cell_type": "code",
   "execution_count": 81,
   "outputs": [],
   "source": [
    "error_history = []\n",
    "\n",
    "def FFNN(x_ext, y_mat, g_mat, w_mat, v_mat, f_mat, alpha, iter = 5000):\n",
    "    new_v = v_mat\n",
    "    new_x_ext = x_ext\n",
    "    new_g = g_mat\n",
    "    new_w = w_mat\n",
    "    new_f = f_mat\n",
    "    i=0\n",
    "    while i <= iter:\n",
    "        new_v = v_correction(new_g, y_mat, new_f, new_w, new_x_ext, new_v, alpha)\n",
    "        \n",
    "        x_mat_ext_2 = x_2_matrix(new_x_ext, new_v)\n",
    "        \n",
    "        new_f = f_matrix(x_mat_ext_2)\n",
    "        f_mat_ext_1 = f_1_matrix(new_f)\n",
    "        \n",
    "        new_w = w_correction(new_g, y_mat, f_mat_ext_1, new_w, alpha*2)\n",
    "        \n",
    "        f_mat_ext_2 = f_2_matrix(f_mat_ext_1, new_w)\n",
    "        \n",
    "        new_g = g_matrix(f_mat_ext_2)\n",
    "        \n",
    "        err = sum_squared_errors_calculation(new_g, matrix_y)\n",
    "        error_history.append(err)\n",
    "        \n",
    "        i +=1\n",
    "    return  new_g"
   ],
   "metadata": {
    "collapsed": false,
    "pycharm": {
     "name": "#%%\n",
     "is_executing": false
    }
   }
  },
  {
   "cell_type": "code",
   "execution_count": 82,
   "outputs": [
    {
     "data": {
      "text/plain": "<Figure size 432x288 with 1 Axes>",
      "image/png": "[encoded data removed]"
     },
     "metadata": {
      "needs_background": "light"
     },
     "output_type": "display_data"
    },
    {
     "name": "stdout",
     "text": [
      "[[0.22852921 0.89830082 0.25485742]\n",
      " [0.22857021 0.89827939 0.25487126]\n",
      " [0.22847305 0.89832578 0.25484927]\n",
      " [0.22852773 0.89829808 0.25486547]\n",
      " [0.22852751 0.89829528 0.25487233]\n",
      " [0.22848083 0.89832007 0.25485581]\n",
      " [0.22850198 0.89831013 0.2548602 ]\n",
      " [0.22845949 0.89833167 0.25484765]\n",
      " [0.22850434 0.89831061 0.25485688]\n",
      " [0.22848795 0.89831918 0.25485138]\n",
      " [0.22848029 0.89832159 0.25485267]\n",
      " [0.22855654 0.89828173 0.25487822]\n",
      " [0.2285976  0.89826784 0.25487379]\n",
      " [0.22852076 0.89830396 0.25485769]\n",
      " [0.22856323 0.89828082 0.25487426]\n",
      " [0.22847445 0.89832483 0.25485026]\n",
      " [0.22847163 0.89832564 0.25485092]\n",
      " [0.22847655 0.89832263 0.25485362]\n",
      " [0.22850622 0.89830711 0.25486354]\n",
      " [0.22853872 0.89829177 0.25487049]\n",
      " [0.22888869 0.89812451 0.25495102]\n",
      " [0.22876967 0.89817882 0.25492975]\n",
      " [0.22897432 0.89807037 0.25500259]\n",
      " [0.2288448  0.89813335 0.25497003]\n",
      " [0.22874477 0.89818739 0.25493199]\n",
      " [0.22868195 0.89821446 0.25492453]\n",
      " [0.2287084  0.89819596 0.25494453]\n",
      " [0.22908077 0.89799249 0.25509148]\n",
      " [0.22887889 0.89810877 0.25499763]\n",
      " [0.22965833 0.89768967 0.25528955]\n",
      " [0.22921503 0.89793487 0.25510726]\n",
      " [0.23031383 0.89737442 0.25544675]\n",
      " [0.22893751 0.89809179 0.25498491]\n",
      " [0.22905288 0.89803951 0.25500475]\n",
      " [0.22934858 0.89788181 0.25511263]\n",
      " [0.22948485 0.89779978 0.25518464]\n",
      " [0.23034001 0.89733208 0.25552352]\n",
      " [0.23017936 0.89747212 0.25533576]\n",
      " [0.22952373 0.89780681 0.2551324 ]\n",
      " [0.2299272  0.89761668 0.25521951]\n",
      " [0.22928484 0.89793897 0.25503355]\n",
      " [0.22919979 0.89797275 0.25503047]\n",
      " [0.22895333 0.89809711 0.25495751]\n",
      " [0.22915421 0.89796014 0.25510211]\n",
      " [0.22880081 0.89815414 0.2549604 ]\n",
      " [0.22893198 0.8980696  0.25504261]\n",
      " [0.22994668 0.89750138 0.2554758 ]\n",
      " [0.2286954  0.89821091 0.25492078]\n",
      " [0.22975769 0.89769902 0.25517699]\n",
      " [0.23080159 0.897158   0.25552004]\n",
      " [0.22952752 0.89785303 0.25501632]\n",
      " [0.2284955  0.8983097  0.25486708]\n",
      " [0.22858961 0.8982524  0.25491769]\n",
      " [0.22849236 0.89830913 0.25487119]\n",
      " [0.22872842 0.89816552 0.25499809]\n",
      " [0.22859958 0.89824334 0.25493002]\n",
      " [0.22860033 0.89825221 0.25490864]\n",
      " [0.22849352 0.8983085  0.25487162]\n",
      " [0.22851699 0.89829585 0.2548804 ]\n",
      " [0.22869045 0.89819536 0.25496192]\n",
      " [0.22849249 0.89831001 0.254869  ]\n",
      " [0.2286865  0.89819417 0.25496819]\n",
      " [0.22861509 0.89823087 0.2549454 ]\n",
      " [0.22852292 0.8982899  0.25488903]\n",
      " [0.22846965 0.8983241  0.25485635]\n",
      " [0.22880347 0.89812067 0.25503669]\n",
      " [0.22865405 0.89820074 0.25498124]\n",
      " [0.22868079 0.89819085 0.25498089]\n",
      " [0.22863276 0.89821658 0.25496311]\n",
      " [0.22876101 0.89814048 0.25502777]\n",
      " [0.22868759 0.8981927  0.25497065]]\n"
     ],
     "output_type": "stream"
    }
   ],
   "source": [
    "def show_error_log():\n",
    "    plt.plot(error_history)\n",
    "    plt.ylabel(\"Error\")\n",
    "    plt.xlabel(\"Itteration\")\n",
    "    plt.show()\n",
    "\n",
    "error_history.append(sum_squared_errors)\n",
    "\n",
    "result = FFNN(matrix_x_extended, matrix_y, matrix_g, w_neutron_matrix, v_neutron_matrix, matrix_f, 0.0005, iter=3000)\n",
    "show_error_log()\n",
    "print(result)"
   ],
   "metadata": {
    "collapsed": false,
    "pycharm": {
     "name": "#%%\n",
     "is_executing": false
    }
   }
  }
 ],
 "metadata": {
  "kernelspec": {
   "display_name": "Python 3",
   "language": "python",
   "name": "python3"
  },
  "language_info": {
   "codemirror_mode": {
    "name": "ipython",
    "version": 2
   },
   "file_extension": ".py",
   "mimetype": "text/x-python",
   "name": "python",
   "nbconvert_exporter": "python",
   "pygments_lexer": "ipython2",
   "version": "2.7.6"
  },
  "pycharm": {
   "stem_cell": {
    "cell_type": "raw",
    "source": [],
    "metadata": {
     "collapsed": false
    }
   }
  }
 },
 "nbformat": 4,
 "nbformat_minor": 0
}