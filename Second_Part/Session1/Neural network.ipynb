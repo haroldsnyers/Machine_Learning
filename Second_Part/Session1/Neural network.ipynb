{
 "cells": [
  {
   "cell_type": "markdown",
   "source": [
    "# Lab / HomeWork\n",
    "## [Artificial Neural Network (ANN)]\n",
    "## Feedfroward Neural Network (FFNN)"
   ],
   "metadata": {
    "collapsed": false
   }
  },
  {
   "cell_type": "code",
   "execution_count": 77,
   "outputs": [],
   "source": [
    "import numpy as np\n",
    "import pandas as pd"
   ],
   "metadata": {
    "collapsed": false,
    "pycharm": {
     "name": "#%%\n",
     "is_executing": false
    }
   }
  },
  {
   "cell_type": "markdown",
   "source": [
    "### Data extraction and choice amount of neurons\n"
   ],
   "metadata": {
    "collapsed": false
   }
  },
  {
   "cell_type": "code",
   "execution_count": 78,
   "outputs": [],
   "source": [
    "data = pd.read_csv(\"data_ffnn_3classes.txt\",header = None,sep=\" \")\n",
    "\n",
    "V_neuron= 10\n",
    "W_neuron = 3"
   ],
   "metadata": {
    "collapsed": false,
    "pycharm": {
     "name": "#%%\n",
     "is_executing": false
    }
   }
  },
  {
   "cell_type": "markdown",
   "source": [
    "### Generation matrix Y\n"
   ],
   "metadata": {
    "collapsed": false
   }
  },
  {
   "cell_type": "code",
   "execution_count": 79,
   "outputs": [
    {
     "name": "stdout",
     "text": [
      "dimension matrix y: (71, 3)\n"
     ],
     "output_type": "stream"
    }
   ],
   "source": [
    "data_y = data[2]\n",
    "length_y = len(data_y)\n",
    "matrix_y = np.zeros((length_y,3))\n",
    "\n",
    "def matrixY(y, length):\n",
    "    for i in range(length):\n",
    "        if y[i] == 0.0:\n",
    "            matrix_y[i][0] = 1\n",
    "        elif y[i] == 1.0:\n",
    "            matrix_y[i][1] = 1\n",
    "        elif y[i] == 2.0:\n",
    "            matrix_y[i][2] = 1\n",
    "            \n",
    "matrixY(data_y, length_y)\n",
    "print(\"dimension matrix y: \" + str(matrix_y.shape))"
   ],
   "metadata": {
    "collapsed": false,
    "pycharm": {
     "name": "#%%\n",
     "is_executing": false
    }
   }
  },
  {
   "cell_type": "markdown",
   "source": [
    "## Forward Propagation\n",
    "\n",
    "### Input data matrix []<sub> I x N\n",
    "I = Number of elements\n",
    "\n",
    "N = Number of features"
   ],
   "metadata": {
    "collapsed": false,
    "pycharm": {
     "name": "#%% md\n"
    }
   }
  },
  {
   "cell_type": "code",
   "execution_count": 80,
   "outputs": [
    {
     "name": "stdout",
     "text": [
      "dimension matrix_x: (71, 2)\n"
     ],
     "output_type": "stream"
    }
   ],
   "source": [
    "def input_matrix_x():\n",
    "    return np.array([data[0], data[1]])\n",
    "    \n",
    "matrix_x = input_matrix_x().transpose()\n",
    "print(\"dimension matrix_x: \" + str(matrix_x.shape))"
   ],
   "metadata": {
    "collapsed": false,
    "pycharm": {
     "name": "#%%\n",
     "is_executing": false
    }
   }
  },
  {
   "cell_type": "markdown",
   "source": [
    "### Extended input data matrix []<sub> I x (N+1)"
   ],
   "metadata": {
    "collapsed": false,
    "pycharm": {
     "name": "#%% md\n"
    }
   }
  },
  {
   "cell_type": "code",
   "execution_count": 81,
   "outputs": [
    {
     "name": "stdout",
     "text": [
      "dimension matrix_x_extended: (71, 3)\n"
     ],
     "output_type": "stream"
    }
   ],
   "source": [
    "def x_1_matrix(x_mat):\n",
    "    ones = np.ones(((np.size(x_mat, 0)),1))\n",
    "    return np.append(ones, x_mat, axis=1)\n",
    "\n",
    "matrix_x_extended = x_1_matrix(matrix_x)\n",
    "print(\"dimension matrix_x_extended: \" + str(matrix_x_extended.shape))"
   ],
   "metadata": {
    "collapsed": false,
    "pycharm": {
     "name": "#%%\n",
     "is_executing": false
    }
   }
  },
  {
   "cell_type": "markdown",
   "source": [
    "### Extended input data matrix 2 []<sub> I x K\n",
    "\n",
    "K = number of hidden neurons\n",
    "\n",
    "v_matrix = []<sub> (N+1) x K"
   ],
   "metadata": {
    "collapsed": false
   }
  },
  {
   "cell_type": "code",
   "execution_count": 82,
   "outputs": [
    {
     "name": "stdout",
     "text": [
      "dimension matrix_x_extended_2: (71, 10)\n"
     ],
     "output_type": "stream"
    }
   ],
   "source": [
    "def x_2_matrix(x_mat_ext, v_neuron):\n",
    "    return x_mat_ext.dot(v_neuron)\n",
    "\n",
    "v_neutron_matrix = np.random.rand(np.size(matrix_x_extended, 1), V_neuron)\n",
    "matrix_x_extended_2 = x_2_matrix(matrix_x_extended, v_neutron_matrix)\n",
    "print(\"dimension matrix_x_extended_2: \" + str(matrix_x_extended_2.shape))"
   ],
   "metadata": {
    "collapsed": false,
    "pycharm": {
     "name": "#%%\n",
     "is_executing": false
    }
   }
  },
  {
   "cell_type": "markdown",
   "source": [
    "### Hidden F matrix []<sub> I x K\n"
   ],
   "metadata": {
    "collapsed": false,
    "pycharm": {
     "name": "#%% md\n"
    }
   }
  },
  {
   "cell_type": "code",
   "execution_count": 83,
   "outputs": [
    {
     "name": "stdout",
     "text": [
      "dimension matrix_f: (71, 10)\n"
     ],
     "output_type": "stream"
    }
   ],
   "source": [
    "def f_matrix(x_mat_ext_2):\n",
    "    return 1/(1 + np.exp(-x_mat_ext_2))\n",
    "    \n",
    "matrix_f = f_matrix(matrix_x_extended_2)\n",
    "print(\"dimension matrix_f: \" + str(matrix_f.shape))"
   ],
   "metadata": {
    "collapsed": false,
    "pycharm": {
     "name": "#%%\n",
     "is_executing": false
    }
   }
  },
  {
   "cell_type": "markdown",
   "source": [
    "### Extended hidden f matrix []<sub> I x (K+1)"
   ],
   "metadata": {
    "collapsed": false
   }
  },
  {
   "cell_type": "code",
   "execution_count": 84,
   "outputs": [
    {
     "name": "stdout",
     "text": [
      "dimension matrix_f_extended: (71, 11)\n"
     ],
     "output_type": "stream"
    }
   ],
   "source": [
    "def f_1_matrix(f_mat):\n",
    "    ones = np.ones((np.size(f_mat,0),1))\n",
    "    return np.append(ones, f_mat,axis=1)\n",
    "\n",
    "matrix_f_extended = f_1_matrix(matrix_f)\n",
    "print(\"dimension matrix_f_extended: \" + str(matrix_f_extended.shape))"
   ],
   "metadata": {
    "collapsed": false,
    "pycharm": {
     "name": "#%%\n",
     "is_executing": false
    }
   }
  },
  {
   "cell_type": "markdown",
   "source": [
    "### Extended hidden f matrix 2 []<sub> I x J\n",
    "\n",
    "J = output variable dimension\n",
    "\n",
    "w_matrix = []<sub> (K+1) x J"
   ],
   "metadata": {
    "collapsed": false
   }
  },
  {
   "cell_type": "code",
   "execution_count": 85,
   "outputs": [
    {
     "name": "stdout",
     "text": [
      "dimension matrix_f_extended_2: (71, 3)\n"
     ],
     "output_type": "stream"
    }
   ],
   "source": [
    "def f_2_matrix(f_mat_1, w_neuron):\n",
    "    return f_mat_1.dot(w_neuron)\n",
    "\n",
    "w_neutron_matrix = np.random.rand(V_neuron+1, W_neuron)\n",
    "matrix_f_extended_2 = f_2_matrix(matrix_f_extended, w_neutron_matrix)\n",
    "print(\"dimension matrix_f_extended_2: \" + str(matrix_f_extended_2.shape))"
   ],
   "metadata": {
    "collapsed": false,
    "pycharm": {
     "name": "#%%\n",
     "is_executing": false
    }
   }
  },
  {
   "cell_type": "markdown",
   "source": [
    "### G matrix []<sub> I x J\n"
   ],
   "metadata": {
    "collapsed": false,
    "pycharm": {
     "name": "#%% md\n"
    }
   }
  },
  {
   "cell_type": "code",
   "execution_count": 86,
   "outputs": [
    {
     "name": "stdout",
     "text": [
      "dimension matrix_g: (71, 3)\n"
     ],
     "output_type": "stream"
    }
   ],
   "source": [
    "def g_matrix(f_mat_ext_2):\n",
    "    return 1/(1 + np.exp(-f_mat_ext_2))\n",
    "\n",
    "matrix_g = g_matrix(matrix_f_extended_2)\n",
    "print(\"dimension matrix_g: \" + str(matrix_g.shape))"
   ],
   "metadata": {
    "collapsed": false,
    "pycharm": {
     "name": "#%%\n",
     "is_executing": false
    }
   }
  },
  {
   "cell_type": "markdown",
   "source": [
    "### Sum of squared errors (SSE)"
   ],
   "metadata": {
    "collapsed": false,
    "pycharm": {
     "name": "#%% md\n"
    }
   }
  },
  {
   "cell_type": "code",
   "execution_count": 87,
   "outputs": [
    {
     "name": "stdout",
     "text": [
      "sum_squared_errors: 69.96930274097349\n"
     ],
     "output_type": "stream"
    }
   ],
   "source": [
    "def sum_squared_errors_calculation(g_mat, y_mat):\n",
    "    squares = (g_mat - y_mat ) ** 2\n",
    "    return np.sum(squares)/2\n",
    "\n",
    "sum_squared_errors = sum_squared_errors_calculation(matrix_g, matrix_y)\n",
    "print(\"sum_squared_errors: \" + str(sum_squared_errors))"
   ],
   "metadata": {
    "collapsed": false,
    "pycharm": {
     "name": "#%%\n",
     "is_executing": false
    }
   }
  }
 ],
 "metadata": {
  "kernelspec": {
   "display_name": "Python 3",
   "language": "python",
   "name": "python3"
  },
  "language_info": {
   "codemirror_mode": {
    "name": "ipython",
    "version": 2
   },
   "file_extension": ".py",
   "mimetype": "text/x-python",
   "name": "python",
   "nbconvert_exporter": "python",
   "pygments_lexer": "ipython2",
   "version": "2.7.6"
  },
  "pycharm": {
   "stem_cell": {
    "cell_type": "raw",
    "source": [],
    "metadata": {
     "collapsed": false
    }
   }
  }
 },
 "nbformat": 4,
 "nbformat_minor": 0
}